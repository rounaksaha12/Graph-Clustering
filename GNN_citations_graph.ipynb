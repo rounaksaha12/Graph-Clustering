{
  "nbformat": 4,
  "nbformat_minor": 0,
  "metadata": {
    "colab": {
      "provenance": [],
      "authorship_tag": "ABX9TyNxjIKuatF8rGsUvF5s3BkL",
      "include_colab_link": true
    },
    "kernelspec": {
      "name": "python3",
      "display_name": "Python 3"
    },
    "language_info": {
      "name": "python"
    }
  },
  "cells": [
    {
      "cell_type": "markdown",
      "metadata": {
        "id": "view-in-github",
        "colab_type": "text"
      },
      "source": [
        "<a href=\"https://colab.research.google.com/github/rounaksaha12/Graph-Clustering/blob/main/GNN_citations_graph.ipynb\" target=\"_parent\"><img src=\"https://colab.research.google.com/assets/colab-badge.svg\" alt=\"Open In Colab\"/></a>"
      ]
    },
    {
      "cell_type": "code",
      "execution_count": 1,
      "metadata": {
        "id": "492yV99Dv7Sh"
      },
      "outputs": [],
      "source": [
        "!mkdir graph_info"
      ]
    },
    {
      "cell_type": "code",
      "source": [
        "!mkdir outputs"
      ],
      "metadata": {
        "id": "58wqkFAXwLMI"
      },
      "execution_count": 2,
      "outputs": []
    },
    {
      "cell_type": "code",
      "source": [
        "!pip install scipy --upgrade"
      ],
      "metadata": {
        "colab": {
          "base_uri": "https://localhost:8080/"
        },
        "id": "Xf_5kZRE0wYO",
        "outputId": "a638c9f9-1f6c-4f2f-96fa-56bc3b208625"
      },
      "execution_count": 18,
      "outputs": [
        {
          "output_type": "stream",
          "name": "stdout",
          "text": [
            "Looking in indexes: https://pypi.org/simple, https://us-python.pkg.dev/colab-wheels/public/simple/\n",
            "Requirement already satisfied: scipy in /usr/local/lib/python3.8/dist-packages (1.7.3)\n",
            "Collecting scipy\n",
            "  Downloading scipy-1.10.0-cp38-cp38-manylinux_2_17_x86_64.manylinux2014_x86_64.whl (34.5 MB)\n",
            "\u001b[2K     \u001b[90m━━━━━━━━━━━━━━━━━━━━━━━━━━━━━━━━━━━━━━━━\u001b[0m \u001b[32m34.5/34.5 MB\u001b[0m \u001b[31m42.0 MB/s\u001b[0m eta \u001b[36m0:00:00\u001b[0m\n",
            "\u001b[?25hRequirement already satisfied: numpy<1.27.0,>=1.19.5 in /usr/local/lib/python3.8/dist-packages (from scipy) (1.21.6)\n",
            "Installing collected packages: scipy\n",
            "  Attempting uninstall: scipy\n",
            "    Found existing installation: scipy 1.7.3\n",
            "    Uninstalling scipy-1.7.3:\n",
            "      Successfully uninstalled scipy-1.7.3\n",
            "Successfully installed scipy-1.10.0\n"
          ]
        }
      ]
    },
    {
      "cell_type": "code",
      "source": [
        "!pip install matplotlib --upgrade"
      ],
      "metadata": {
        "colab": {
          "base_uri": "https://localhost:8080/",
          "height": 537
        },
        "id": "mhN7uEo5mFqa",
        "outputId": "fdb3a5a1-0c87-4adc-c695-c177139546cd"
      },
      "execution_count": 105,
      "outputs": [
        {
          "output_type": "stream",
          "name": "stdout",
          "text": [
            "Looking in indexes: https://pypi.org/simple, https://us-python.pkg.dev/colab-wheels/public/simple/\n",
            "Requirement already satisfied: matplotlib in /usr/local/lib/python3.8/dist-packages (3.2.2)\n",
            "Collecting matplotlib\n",
            "  Downloading matplotlib-3.6.2-cp38-cp38-manylinux_2_12_x86_64.manylinux2010_x86_64.whl (9.4 MB)\n",
            "\u001b[2K     \u001b[90m━━━━━━━━━━━━━━━━━━━━━━━━━━━━━━━━━━━━━━━━\u001b[0m \u001b[32m9.4/9.4 MB\u001b[0m \u001b[31m48.5 MB/s\u001b[0m eta \u001b[36m0:00:00\u001b[0m\n",
            "\u001b[?25hRequirement already satisfied: python-dateutil>=2.7 in /usr/local/lib/python3.8/dist-packages (from matplotlib) (2.8.2)\n",
            "Requirement already satisfied: kiwisolver>=1.0.1 in /usr/local/lib/python3.8/dist-packages (from matplotlib) (1.4.4)\n",
            "Collecting contourpy>=1.0.1\n",
            "  Downloading contourpy-1.0.6-cp38-cp38-manylinux_2_17_x86_64.manylinux2014_x86_64.whl (295 kB)\n",
            "\u001b[2K     \u001b[90m━━━━━━━━━━━━━━━━━━━━━━━━━━━━━━━━━━━━━━\u001b[0m \u001b[32m296.0/296.0 KB\u001b[0m \u001b[31m34.5 MB/s\u001b[0m eta \u001b[36m0:00:00\u001b[0m\n",
            "\u001b[?25hRequirement already satisfied: packaging>=20.0 in /usr/local/lib/python3.8/dist-packages (from matplotlib) (21.3)\n",
            "Requirement already satisfied: pillow>=6.2.0 in /usr/local/lib/python3.8/dist-packages (from matplotlib) (7.1.2)\n",
            "Requirement already satisfied: cycler>=0.10 in /usr/local/lib/python3.8/dist-packages (from matplotlib) (0.11.0)\n",
            "Collecting fonttools>=4.22.0\n",
            "  Downloading fonttools-4.38.0-py3-none-any.whl (965 kB)\n",
            "\u001b[2K     \u001b[90m━━━━━━━━━━━━━━━━━━━━━━━━━━━━━━━━━━━━━━\u001b[0m \u001b[32m965.4/965.4 KB\u001b[0m \u001b[31m64.9 MB/s\u001b[0m eta \u001b[36m0:00:00\u001b[0m\n",
            "\u001b[?25hRequirement already satisfied: numpy>=1.19 in /usr/local/lib/python3.8/dist-packages (from matplotlib) (1.21.6)\n",
            "Requirement already satisfied: pyparsing>=2.2.1 in /usr/local/lib/python3.8/dist-packages (from matplotlib) (3.0.9)\n",
            "Requirement already satisfied: six>=1.5 in /usr/local/lib/python3.8/dist-packages (from python-dateutil>=2.7->matplotlib) (1.15.0)\n",
            "Installing collected packages: fonttools, contourpy, matplotlib\n",
            "  Attempting uninstall: matplotlib\n",
            "    Found existing installation: matplotlib 3.2.2\n",
            "    Uninstalling matplotlib-3.2.2:\n",
            "      Successfully uninstalled matplotlib-3.2.2\n",
            "Successfully installed contourpy-1.0.6 fonttools-4.38.0 matplotlib-3.6.2\n"
          ]
        },
        {
          "output_type": "display_data",
          "data": {
            "application/vnd.colab-display-data+json": {
              "pip_warning": {
                "packages": [
                  "matplotlib",
                  "mpl_toolkits"
                ]
              }
            }
          },
          "metadata": {}
        }
      ]
    },
    {
      "cell_type": "code",
      "source": [
        "!python -c \"import torch; print(torch.__version__)\"\n",
        "!python -c \"import torch; print(torch.version.cuda)\"\n",
        "!pip install pyg-lib torch-scatter torch-sparse -f https://data.pyg.org/whl/torch-1.13.0+cu116.html\n",
        "!pip install torch-geometric"
      ],
      "metadata": {
        "colab": {
          "base_uri": "https://localhost:8080/",
          "height": 991
        },
        "id": "vw-aDYWM3Uit",
        "outputId": "82d3e75e-9296-4b55-c5a8-b964712efb13"
      },
      "execution_count": 20,
      "outputs": [
        {
          "output_type": "stream",
          "name": "stdout",
          "text": [
            "1.13.0+cu116\n",
            "11.6\n",
            "Looking in indexes: https://pypi.org/simple, https://us-python.pkg.dev/colab-wheels/public/simple/\n",
            "Looking in links: https://data.pyg.org/whl/torch-1.13.0+cu116.html\n",
            "Collecting pyg-lib\n",
            "  Downloading https://data.pyg.org/whl/torch-1.13.0%2Bcu116/pyg_lib-0.1.0%2Bpt113cu116-cp38-cp38-linux_x86_64.whl (1.9 MB)\n",
            "\u001b[2K     \u001b[90m━━━━━━━━━━━━━━━━━━━━━━━━━━━━━━━━━━━━━━━━\u001b[0m \u001b[32m1.9/1.9 MB\u001b[0m \u001b[31m11.9 MB/s\u001b[0m eta \u001b[36m0:00:00\u001b[0m\n",
            "\u001b[?25hCollecting torch-scatter\n",
            "  Downloading https://data.pyg.org/whl/torch-1.13.0%2Bcu116/torch_scatter-2.1.0%2Bpt113cu116-cp38-cp38-linux_x86_64.whl (9.4 MB)\n",
            "\u001b[2K     \u001b[90m━━━━━━━━━━━━━━━━━━━━━━━━━━━━━━━━━━━━━━━━\u001b[0m \u001b[32m9.4/9.4 MB\u001b[0m \u001b[31m34.3 MB/s\u001b[0m eta \u001b[36m0:00:00\u001b[0m\n",
            "\u001b[?25hCollecting torch-sparse\n",
            "  Downloading https://data.pyg.org/whl/torch-1.13.0%2Bcu116/torch_sparse-0.6.16%2Bpt113cu116-cp38-cp38-linux_x86_64.whl (4.5 MB)\n",
            "\u001b[2K     \u001b[90m━━━━━━━━━━━━━━━━━━━━━━━━━━━━━━━━━━━━━━━━\u001b[0m \u001b[32m4.5/4.5 MB\u001b[0m \u001b[31m36.6 MB/s\u001b[0m eta \u001b[36m0:00:00\u001b[0m\n",
            "\u001b[?25hRequirement already satisfied: scipy in /usr/local/lib/python3.8/dist-packages (from torch-sparse) (1.10.0)\n",
            "Requirement already satisfied: numpy<1.27.0,>=1.19.5 in /usr/local/lib/python3.8/dist-packages (from scipy->torch-sparse) (1.21.6)\n",
            "Installing collected packages: torch-scatter, pyg-lib, torch-sparse\n",
            "Successfully installed pyg-lib-0.1.0+pt113cu116 torch-scatter-2.1.0+pt113cu116 torch-sparse-0.6.16+pt113cu116\n",
            "Looking in indexes: https://pypi.org/simple, https://us-python.pkg.dev/colab-wheels/public/simple/\n",
            "Collecting torch-geometric\n",
            "  Downloading torch_geometric-2.2.0.tar.gz (564 kB)\n",
            "\u001b[2K     \u001b[90m━━━━━━━━━━━━━━━━━━━━━━━━━━━━━━━━━━━━━━\u001b[0m \u001b[32m565.0/565.0 KB\u001b[0m \u001b[31m14.3 MB/s\u001b[0m eta \u001b[36m0:00:00\u001b[0m\n",
            "\u001b[?25h  Preparing metadata (setup.py) ... \u001b[?25l\u001b[?25hdone\n",
            "Requirement already satisfied: tqdm in /usr/local/lib/python3.8/dist-packages (from torch-geometric) (4.64.1)\n",
            "Requirement already satisfied: numpy in /usr/local/lib/python3.8/dist-packages (from torch-geometric) (1.21.6)\n",
            "Requirement already satisfied: scipy in /usr/local/lib/python3.8/dist-packages (from torch-geometric) (1.10.0)\n",
            "Requirement already satisfied: jinja2 in /usr/local/lib/python3.8/dist-packages (from torch-geometric) (2.11.3)\n",
            "Requirement already satisfied: requests in /usr/local/lib/python3.8/dist-packages (from torch-geometric) (2.25.1)\n",
            "Requirement already satisfied: pyparsing in /usr/local/lib/python3.8/dist-packages (from torch-geometric) (3.0.9)\n",
            "Requirement already satisfied: scikit-learn in /usr/local/lib/python3.8/dist-packages (from torch-geometric) (1.0.2)\n",
            "Collecting psutil>=5.8.0\n",
            "  Downloading psutil-5.9.4-cp36-abi3-manylinux_2_12_x86_64.manylinux2010_x86_64.manylinux_2_17_x86_64.manylinux2014_x86_64.whl (280 kB)\n",
            "\u001b[2K     \u001b[90m━━━━━━━━━━━━━━━━━━━━━━━━━━━━━━━━━━━━━━━\u001b[0m \u001b[32m280.2/280.2 KB\u001b[0m \u001b[31m1.1 MB/s\u001b[0m eta \u001b[36m0:00:00\u001b[0m\n",
            "\u001b[?25hRequirement already satisfied: MarkupSafe>=0.23 in /usr/local/lib/python3.8/dist-packages (from jinja2->torch-geometric) (2.0.1)\n",
            "Requirement already satisfied: chardet<5,>=3.0.2 in /usr/local/lib/python3.8/dist-packages (from requests->torch-geometric) (4.0.0)\n",
            "Requirement already satisfied: idna<3,>=2.5 in /usr/local/lib/python3.8/dist-packages (from requests->torch-geometric) (2.10)\n",
            "Requirement already satisfied: urllib3<1.27,>=1.21.1 in /usr/local/lib/python3.8/dist-packages (from requests->torch-geometric) (1.24.3)\n",
            "Requirement already satisfied: certifi>=2017.4.17 in /usr/local/lib/python3.8/dist-packages (from requests->torch-geometric) (2022.12.7)\n",
            "Requirement already satisfied: joblib>=0.11 in /usr/local/lib/python3.8/dist-packages (from scikit-learn->torch-geometric) (1.2.0)\n",
            "Requirement already satisfied: threadpoolctl>=2.0.0 in /usr/local/lib/python3.8/dist-packages (from scikit-learn->torch-geometric) (3.1.0)\n",
            "Building wheels for collected packages: torch-geometric\n",
            "  Building wheel for torch-geometric (setup.py) ... \u001b[?25l\u001b[?25hdone\n",
            "  Created wheel for torch-geometric: filename=torch_geometric-2.2.0-py3-none-any.whl size=773302 sha256=cec462d0e83c4557de13fe2c67933768d0229df4b409640c3ecb5c5749c21335\n",
            "  Stored in directory: /root/.cache/pip/wheels/59/a3/20/198928106d3169865ae73afcbd3d3d1796cf6b429b55c65378\n",
            "Successfully built torch-geometric\n",
            "Installing collected packages: psutil, torch-geometric\n",
            "  Attempting uninstall: psutil\n",
            "    Found existing installation: psutil 5.4.8\n",
            "    Uninstalling psutil-5.4.8:\n",
            "      Successfully uninstalled psutil-5.4.8\n",
            "Successfully installed psutil-5.9.4 torch-geometric-2.2.0\n"
          ]
        },
        {
          "output_type": "display_data",
          "data": {
            "application/vnd.colab-display-data+json": {
              "pip_warning": {
                "packages": [
                  "psutil"
                ]
              }
            }
          },
          "metadata": {}
        }
      ]
    },
    {
      "cell_type": "code",
      "source": [
        "import time\n",
        "import numpy as np\n",
        "import pandas as pd\n",
        "import networkx as nx"
      ],
      "metadata": {
        "id": "10r98RgvwQJF"
      },
      "execution_count": 1,
      "outputs": []
    },
    {
      "cell_type": "code",
      "source": [
        "intended_cluster_count=9 #choosing cluster count with highest silhoutte index\n",
        "\n",
        "cluster_assignments_df=pd.read_csv(f'./outputs/cluster_assignments_ncluster_{intended_cluster_count}.csv')\n",
        "cluster_labels=cluster_assignments_df.to_numpy()[:,1]\n",
        "node_count=len(cluster_labels)\n",
        "print(node_count)\n",
        "print(cluster_labels)"
      ],
      "metadata": {
        "colab": {
          "base_uri": "https://localhost:8080/"
        },
        "id": "QFo6YVTxwqCS",
        "outputId": "9b7ac9e8-6a66-4139-bbd8-c7de9d209fc9"
      },
      "execution_count": 2,
      "outputs": [
        {
          "output_type": "stream",
          "name": "stdout",
          "text": [
            "2114\n",
            "[2 7 3 ... 2 5 3]\n"
          ]
        }
      ]
    },
    {
      "cell_type": "code",
      "source": [
        "mapped_edge_list=pd.read_csv('./graph_info/edge_info.txt',delimiter='\\t').to_numpy()\n",
        "mapped_edge_list"
      ],
      "metadata": {
        "colab": {
          "base_uri": "https://localhost:8080/"
        },
        "id": "dOwqYk8jw6zm",
        "outputId": "5f1b7207-33af-4cfb-aafe-2c0b558c281d"
      },
      "execution_count": 3,
      "outputs": [
        {
          "output_type": "execute_result",
          "data": {
            "text/plain": [
              "array([[   0,  140],\n",
              "       [   1, 1630],\n",
              "       [   2, 1038],\n",
              "       ...,\n",
              "       [2027, 2047],\n",
              "       [2027, 2050],\n",
              "       [2059, 2079]])"
            ]
          },
          "metadata": {},
          "execution_count": 3
        }
      ]
    },
    {
      "cell_type": "code",
      "source": [
        "G_mapped=nx.Graph()\n",
        "G_mapped.add_nodes_from(np.arange(node_count))\n",
        "G_mapped.add_edges_from(mapped_edge_list)"
      ],
      "metadata": {
        "id": "R2JPeIxTxfpn"
      },
      "execution_count": 4,
      "outputs": []
    },
    {
      "cell_type": "code",
      "source": [
        "print(G_mapped.number_of_nodes())\n",
        "print(G_mapped.number_of_edges())"
      ],
      "metadata": {
        "colab": {
          "base_uri": "https://localhost:8080/"
        },
        "id": "EV_wOReLz4MJ",
        "outputId": "2f77f0ec-fcb4-4572-9699-fb5d533ba5d4"
      },
      "execution_count": 5,
      "outputs": [
        {
          "output_type": "stream",
          "name": "stdout",
          "text": [
            "2114\n",
            "2160\n"
          ]
        }
      ]
    },
    {
      "cell_type": "code",
      "source": [
        "import torch\n",
        "import pandas as pd\n",
        "from torch_geometric.data import InMemoryDataset, Data\n",
        "from sklearn.model_selection import train_test_split\n",
        "import torch_geometric.transforms as T"
      ],
      "metadata": {
        "id": "XgU7VDse0AkV"
      },
      "execution_count": 9,
      "outputs": []
    },
    {
      "cell_type": "code",
      "source": [
        "adj = nx.to_scipy_sparse_array(G_mapped).tocoo()\n",
        "row = torch.from_numpy(adj.row.astype(np.int64)).to(torch.long)\n",
        "col = torch.from_numpy(adj.col.astype(np.int64)).to(torch.long)\n",
        "edge_index = torch.stack([row, col], dim=0)"
      ],
      "metadata": {
        "id": "zZgJfQWf1dVP"
      },
      "execution_count": 8,
      "outputs": []
    },
    {
      "cell_type": "code",
      "source": [
        "# custom dataset\n",
        "class CitationsDataset(InMemoryDataset):\n",
        "    def __init__(self, G, edge_index, num_classes, cluster_labels,transform=None):\n",
        "        super(CitationsDataset, self).__init__('.', transform, None, None)\n",
        "        data = Data(edge_index=edge_index)\n",
        "        n_nodes = G.number_of_nodes()\n",
        "        data.num_nodes = n_nodes\n",
        "        \n",
        "        # input feature: node id\n",
        "        data.x = torch.arange(n_nodes)\n",
        "        \n",
        "        # labels\n",
        "        y = torch.from_numpy(cluster_labels).type(torch.long)\n",
        "        data.y = y.clone().detach()\n",
        "        \n",
        "        data.num_classes = num_classes\n",
        "\n",
        "        # splitting the data into train, validation and test\n",
        "        X_train, X_test, y_train, y_test = train_test_split(pd.Series(list(G.nodes())), \n",
        "                                                            pd.Series(cluster_labels),\n",
        "                                                            test_size=0.50, \n",
        "                                                            random_state=42)\n",
        "        \n",
        "        \n",
        "        \n",
        "        # create train and test masks for data\n",
        "        train_mask = torch.zeros(n_nodes, dtype=torch.bool)\n",
        "        test_mask = torch.zeros(n_nodes, dtype=torch.bool)\n",
        "        train_mask[X_train.index] = True\n",
        "        test_mask[X_test.index] = True\n",
        "        data['train_mask'] = train_mask\n",
        "        data['test_mask'] = test_mask\n",
        "\n",
        "        self.data, self.slices = self.collate([data])\n",
        "\n",
        "    def _download(self):\n",
        "        return\n",
        "\n",
        "    def _process(self):\n",
        "        return\n",
        "\n",
        "    def __repr__(self):\n",
        "        return '{}()'.format(self.__class__.__name__)"
      ],
      "metadata": {
        "id": "TK7pbz8P5vMM"
      },
      "execution_count": 10,
      "outputs": []
    },
    {
      "cell_type": "code",
      "source": [
        "import torch.nn as nn\n",
        "import torch.nn.functional as F\n",
        "from torch_geometric.nn import GCNConv"
      ],
      "metadata": {
        "id": "7hE11Hxd8XJI"
      },
      "execution_count": 11,
      "outputs": []
    },
    {
      "cell_type": "code",
      "source": [
        "num_classes=np.argmax(cluster_labels)+1\n",
        "citations_data=CitationsDataset(G_mapped,edge_index,num_classes,cluster_labels)[0]\n",
        "# print(citations_dataset)"
      ],
      "metadata": {
        "id": "Y69-3EHE8KYd"
      },
      "execution_count": 12,
      "outputs": []
    },
    {
      "cell_type": "code",
      "source": [
        "class Net(nn.Module):\n",
        "      def __init__(self,num_nodes,num_classes,embed_dim=32):\n",
        "          super(Net,self).__init__()\n",
        "          self.num_nodes=num_nodes\n",
        "          self.embed_dim=embed_dim\n",
        "          self.embed=nn.Embedding(num_nodes,embed_dim)\n",
        "          self.conv1=GCNConv(embed_dim,64)\n",
        "          self.conv2=GCNConv(64,int(num_classes))\n",
        "\n",
        "      def forward(self,x,edge_index):\n",
        "          x=self.embed(x)\n",
        "          x=F.relu(self.conv1(x,edge_index))\n",
        "          x = F.dropout(x, training=self.training)\n",
        "          x = self.conv2(x, edge_index)\n",
        "          return F.log_softmax(x, dim=1)\n",
        "\n",
        "      def decode(self,x,edge_index):\n",
        "          x=F.relu(self.conv1(x,edge_index))\n",
        "          x = F.dropout(x, training=self.training)\n",
        "          x = self.conv2(x, edge_index)\n",
        "          return F.log_softmax(x, dim=1)\n",
        "\n"
      ],
      "metadata": {
        "id": "imeSk7vs-xt4"
      },
      "execution_count": 13,
      "outputs": []
    },
    {
      "cell_type": "code",
      "source": [
        "device=torch.device('cuda' if torch.cuda.is_available() else 'cpu')\n",
        "citations_data=citations_data.to(device)\n",
        "model=Net(node_count,num_classes,2).to(device)\n",
        "optimizer = torch.optim.Adam(model.parameters(),lr=1e-2, weight_decay=5e-4)"
      ],
      "metadata": {
        "id": "UjVwcYTwBgoL"
      },
      "execution_count": 14,
      "outputs": []
    },
    {
      "cell_type": "code",
      "source": [
        "from tqdm import tqdm"
      ],
      "metadata": {
        "id": "oprRjchUaK5n"
      },
      "execution_count": 15,
      "outputs": []
    },
    {
      "cell_type": "code",
      "source": [
        "epoch_cnt=500\n",
        "\n",
        "def accuracy(output, labels):\n",
        "    preds = output.max(1)[1].type_as(labels)\n",
        "    correct = preds.eq(labels).double()\n",
        "    correct = correct.sum()\n",
        "    return correct / len(labels)\n",
        "\n",
        "t_start = time.time()\n",
        "\n",
        "# train loop\n",
        "for epoch in tqdm(range(epoch_cnt)):\n",
        "    t = time.time()\n",
        "\n",
        "    model.train()\n",
        "    optimizer.zero_grad()\n",
        "    \n",
        "    output = model(citations_data.x,edge_index)\n",
        "    loss_train = F.nll_loss(output[citations_data.train_mask], citations_data.y[citations_data.train_mask])\n",
        "    acc_train = accuracy(output[citations_data.train_mask], citations_data.y[citations_data.train_mask])\n",
        "    \n",
        "    loss_train.backward()\n",
        "    \n",
        "    optimizer.step()\n",
        "    \n",
        "    model.eval()\n",
        "    output = model(citations_data.x,edge_index)\n",
        "    \n",
        "    loss_val = F.nll_loss(output[citations_data.test_mask], citations_data.y[citations_data.test_mask])\n",
        "    acc_val = accuracy(output[citations_data.test_mask], citations_data.y[citations_data.test_mask])\n",
        "    \n",
        "    if not epoch % 10:\n",
        "      # Print all the results and the time required\n",
        "      print('Epoch: {:04d}'.format(epoch+1),\n",
        "            'loss_train: {:.4f}'.format(loss_train.item()),\n",
        "            'acc_train: {:.4f}'.format(acc_train.item()),\n",
        "            'loss_val: {:.4f}'.format(loss_val.item()),\n",
        "            'acc_val: {:.4f}'.format(acc_val.item()),\n",
        "            'time: {:.4f}s'.format(time.time() - t))\n",
        "    \n",
        "print(\"Model training is complete!\")\n",
        "print(\"Total model training time: {:.4f}s\".format(time.time() - t_start))"
      ],
      "metadata": {
        "colab": {
          "base_uri": "https://localhost:8080/"
        },
        "id": "rZj3RNo8ISb0",
        "outputId": "4ce7eae7-3e55-4c23-af4e-536df6a061e6"
      },
      "execution_count": 16,
      "outputs": [
        {
          "output_type": "stream",
          "name": "stderr",
          "text": [
            "  2%|▏         | 12/500 [00:00<00:08, 55.65it/s]"
          ]
        },
        {
          "output_type": "stream",
          "name": "stdout",
          "text": [
            "Epoch: 0001 loss_train: 2.4876 acc_train: 0.1022 loss_val: 2.4527 acc_val: 0.1429 time: 0.0366s\n",
            "Epoch: 0011 loss_train: 2.2693 acc_train: 0.1731 loss_val: 2.2581 acc_val: 0.1722 time: 0.0170s\n"
          ]
        },
        {
          "output_type": "stream",
          "name": "stderr",
          "text": [
            "  6%|▌         | 31/500 [00:00<00:08, 58.62it/s]"
          ]
        },
        {
          "output_type": "stream",
          "name": "stdout",
          "text": [
            "Epoch: 0021 loss_train: 2.1404 acc_train: 0.2110 loss_val: 2.1429 acc_val: 0.2034 time: 0.0149s\n",
            "Epoch: 0031 loss_train: 2.0357 acc_train: 0.2507 loss_val: 2.0569 acc_val: 0.2403 time: 0.0160s\n"
          ]
        },
        {
          "output_type": "stream",
          "name": "stderr",
          "text": [
            " 10%|▉         | 49/500 [00:00<00:08, 55.14it/s]"
          ]
        },
        {
          "output_type": "stream",
          "name": "stdout",
          "text": [
            "Epoch: 0041 loss_train: 1.8618 acc_train: 0.3160 loss_val: 1.9079 acc_val: 0.3236 time: 0.0163s\n",
            "Epoch: 0051 loss_train: 1.5913 acc_train: 0.4513 loss_val: 1.6661 acc_val: 0.4229 time: 0.0157s\n"
          ]
        },
        {
          "output_type": "stream",
          "name": "stderr",
          "text": [
            " 13%|█▎        | 67/500 [00:01<00:07, 55.54it/s]"
          ]
        },
        {
          "output_type": "stream",
          "name": "stdout",
          "text": [
            "Epoch: 0061 loss_train: 1.3172 acc_train: 0.5289 loss_val: 1.3842 acc_val: 0.5459 time: 0.0156s\n",
            "Epoch: 0071 loss_train: 0.9986 acc_train: 0.6755 loss_val: 1.1425 acc_val: 0.6329 time: 0.0146s\n"
          ]
        },
        {
          "output_type": "stream",
          "name": "stderr",
          "text": [
            " 19%|█▊        | 93/500 [00:01<00:06, 60.14it/s]"
          ]
        },
        {
          "output_type": "stream",
          "name": "stdout",
          "text": [
            "Epoch: 0081 loss_train: 0.7856 acc_train: 0.7606 loss_val: 0.9615 acc_val: 0.7162 time: 0.0160s\n",
            "Epoch: 0091 loss_train: 0.5916 acc_train: 0.8439 loss_val: 0.8272 acc_val: 0.7578 time: 0.0145s\n"
          ]
        },
        {
          "output_type": "stream",
          "name": "stderr",
          "text": [
            " 21%|██▏       | 107/500 [00:01<00:06, 59.96it/s]"
          ]
        },
        {
          "output_type": "stream",
          "name": "stdout",
          "text": [
            "Epoch: 0101 loss_train: 0.4435 acc_train: 0.8912 loss_val: 0.7327 acc_val: 0.7862 time: 0.0183s\n",
            "Epoch: 0111 loss_train: 0.3114 acc_train: 0.9262 loss_val: 0.6741 acc_val: 0.8136 time: 0.0201s\n"
          ]
        },
        {
          "output_type": "stream",
          "name": "stderr",
          "text": [
            " 25%|██▌       | 127/500 [00:02<00:06, 58.56it/s]"
          ]
        },
        {
          "output_type": "stream",
          "name": "stdout",
          "text": [
            "Epoch: 0121 loss_train: 0.2567 acc_train: 0.9432 loss_val: 0.6278 acc_val: 0.8325 time: 0.0179s\n",
            "Epoch: 0131 loss_train: 0.2012 acc_train: 0.9603 loss_val: 0.6050 acc_val: 0.8420 time: 0.0146s\n"
          ]
        },
        {
          "output_type": "stream",
          "name": "stderr",
          "text": [
            " 30%|███       | 152/500 [00:02<00:05, 58.40it/s]"
          ]
        },
        {
          "output_type": "stream",
          "name": "stdout",
          "text": [
            "Epoch: 0141 loss_train: 0.1677 acc_train: 0.9650 loss_val: 0.5872 acc_val: 0.8534 time: 0.0167s\n",
            "Epoch: 0151 loss_train: 0.1364 acc_train: 0.9773 loss_val: 0.5717 acc_val: 0.8638 time: 0.0145s\n"
          ]
        },
        {
          "output_type": "stream",
          "name": "stderr",
          "text": [
            " 34%|███▍      | 171/500 [00:02<00:05, 58.85it/s]"
          ]
        },
        {
          "output_type": "stream",
          "name": "stdout",
          "text": [
            "Epoch: 0161 loss_train: 0.1044 acc_train: 0.9839 loss_val: 0.5600 acc_val: 0.8600 time: 0.0148s\n",
            "Epoch: 0171 loss_train: 0.1058 acc_train: 0.9858 loss_val: 0.5467 acc_val: 0.8647 time: 0.0151s\n"
          ]
        },
        {
          "output_type": "stream",
          "name": "stderr",
          "text": [
            " 38%|███▊      | 190/500 [00:03<00:05, 59.02it/s]"
          ]
        },
        {
          "output_type": "stream",
          "name": "stdout",
          "text": [
            "Epoch: 0181 loss_train: 0.0822 acc_train: 0.9905 loss_val: 0.5180 acc_val: 0.8704 time: 0.0163s\n",
            "Epoch: 0191 loss_train: 0.0729 acc_train: 0.9934 loss_val: 0.4987 acc_val: 0.8780 time: 0.0157s\n"
          ]
        },
        {
          "output_type": "stream",
          "name": "stderr",
          "text": [
            " 42%|████▏     | 208/500 [00:03<00:05, 58.15it/s]"
          ]
        },
        {
          "output_type": "stream",
          "name": "stdout",
          "text": [
            "Epoch: 0201 loss_train: 0.0720 acc_train: 0.9943 loss_val: 0.4871 acc_val: 0.8789 time: 0.0161s\n",
            "Epoch: 0211 loss_train: 0.0663 acc_train: 0.9972 loss_val: 0.4672 acc_val: 0.8817 time: 0.0149s\n"
          ]
        },
        {
          "output_type": "stream",
          "name": "stderr",
          "text": [
            " 46%|████▋     | 232/500 [00:04<00:04, 57.35it/s]"
          ]
        },
        {
          "output_type": "stream",
          "name": "stdout",
          "text": [
            "Epoch: 0221 loss_train: 0.0629 acc_train: 0.9934 loss_val: 0.4461 acc_val: 0.8884 time: 0.0200s\n",
            "Epoch: 0231 loss_train: 0.0594 acc_train: 0.9981 loss_val: 0.4269 acc_val: 0.8950 time: 0.0155s\n"
          ]
        },
        {
          "output_type": "stream",
          "name": "stderr",
          "text": [
            " 50%|█████     | 251/500 [00:04<00:04, 58.17it/s]"
          ]
        },
        {
          "output_type": "stream",
          "name": "stdout",
          "text": [
            "Epoch: 0241 loss_train: 0.0570 acc_train: 0.9962 loss_val: 0.4075 acc_val: 0.8978 time: 0.0148s\n",
            "Epoch: 0251 loss_train: 0.0470 acc_train: 0.9981 loss_val: 0.3855 acc_val: 0.9007 time: 0.0149s\n"
          ]
        },
        {
          "output_type": "stream",
          "name": "stderr",
          "text": [
            " 54%|█████▍    | 271/500 [00:04<00:03, 59.67it/s]"
          ]
        },
        {
          "output_type": "stream",
          "name": "stdout",
          "text": [
            "Epoch: 0261 loss_train: 0.0471 acc_train: 0.9962 loss_val: 0.3725 acc_val: 0.9035 time: 0.0147s\n",
            "Epoch: 0271 loss_train: 0.0470 acc_train: 0.9991 loss_val: 0.3566 acc_val: 0.9149 time: 0.0148s\n"
          ]
        },
        {
          "output_type": "stream",
          "name": "stderr",
          "text": [
            " 58%|█████▊    | 291/500 [00:05<00:03, 60.35it/s]"
          ]
        },
        {
          "output_type": "stream",
          "name": "stdout",
          "text": [
            "Epoch: 0281 loss_train: 0.0417 acc_train: 0.9991 loss_val: 0.3439 acc_val: 0.9149 time: 0.0147s\n",
            "Epoch: 0291 loss_train: 0.0444 acc_train: 0.9962 loss_val: 0.3179 acc_val: 0.9385 time: 0.0150s\n"
          ]
        },
        {
          "output_type": "stream",
          "name": "stderr",
          "text": [
            " 62%|██████▏   | 312/500 [00:05<00:03, 59.56it/s]"
          ]
        },
        {
          "output_type": "stream",
          "name": "stdout",
          "text": [
            "Epoch: 0301 loss_train: 0.0474 acc_train: 0.9972 loss_val: 0.3102 acc_val: 0.9300 time: 0.0147s\n",
            "Epoch: 0311 loss_train: 0.0400 acc_train: 1.0000 loss_val: 0.3045 acc_val: 0.9376 time: 0.0150s\n"
          ]
        },
        {
          "output_type": "stream",
          "name": "stderr",
          "text": [
            " 67%|██████▋   | 333/500 [00:05<00:02, 60.60it/s]"
          ]
        },
        {
          "output_type": "stream",
          "name": "stdout",
          "text": [
            "Epoch: 0321 loss_train: 0.0420 acc_train: 1.0000 loss_val: 0.2839 acc_val: 0.9480 time: 0.0147s\n",
            "Epoch: 0331 loss_train: 0.0422 acc_train: 1.0000 loss_val: 0.2757 acc_val: 0.9432 time: 0.0147s\n"
          ]
        },
        {
          "output_type": "stream",
          "name": "stderr",
          "text": [
            " 69%|██████▉   | 347/500 [00:05<00:02, 60.64it/s]"
          ]
        },
        {
          "output_type": "stream",
          "name": "stdout",
          "text": [
            "Epoch: 0341 loss_train: 0.0404 acc_train: 1.0000 loss_val: 0.2661 acc_val: 0.9555 time: 0.0174s\n",
            "Epoch: 0351 loss_train: 0.0410 acc_train: 0.9991 loss_val: 0.2606 acc_val: 0.9536 time: 0.0149s\n"
          ]
        },
        {
          "output_type": "stream",
          "name": "stderr",
          "text": [
            " 74%|███████▎  | 368/500 [00:06<00:02, 61.28it/s]"
          ]
        },
        {
          "output_type": "stream",
          "name": "stdout",
          "text": [
            "Epoch: 0361 loss_train: 0.0419 acc_train: 1.0000 loss_val: 0.2542 acc_val: 0.9650 time: 0.0146s\n",
            "Epoch: 0371 loss_train: 0.0394 acc_train: 0.9991 loss_val: 0.2556 acc_val: 0.9622 time: 0.0148s\n"
          ]
        },
        {
          "output_type": "stream",
          "name": "stderr",
          "text": [
            " 78%|███████▊  | 388/500 [00:06<00:01, 60.37it/s]"
          ]
        },
        {
          "output_type": "stream",
          "name": "stdout",
          "text": [
            "Epoch: 0381 loss_train: 0.0390 acc_train: 0.9991 loss_val: 0.2411 acc_val: 0.9659 time: 0.0149s\n",
            "Epoch: 0391 loss_train: 0.0412 acc_train: 0.9991 loss_val: 0.2385 acc_val: 0.9678 time: 0.0146s\n"
          ]
        },
        {
          "output_type": "stream",
          "name": "stderr",
          "text": [
            " 82%|████████▏ | 409/500 [00:06<00:01, 61.20it/s]"
          ]
        },
        {
          "output_type": "stream",
          "name": "stdout",
          "text": [
            "Epoch: 0401 loss_train: 0.0366 acc_train: 0.9991 loss_val: 0.2322 acc_val: 0.9697 time: 0.0153s\n",
            "Epoch: 0411 loss_train: 0.0393 acc_train: 1.0000 loss_val: 0.2235 acc_val: 0.9716 time: 0.0150s\n"
          ]
        },
        {
          "output_type": "stream",
          "name": "stderr",
          "text": [
            " 86%|████████▌ | 430/500 [00:07<00:01, 60.89it/s]"
          ]
        },
        {
          "output_type": "stream",
          "name": "stdout",
          "text": [
            "Epoch: 0421 loss_train: 0.0402 acc_train: 1.0000 loss_val: 0.2227 acc_val: 0.9754 time: 0.0152s\n",
            "Epoch: 0431 loss_train: 0.0415 acc_train: 0.9981 loss_val: 0.2215 acc_val: 0.9745 time: 0.0228s\n"
          ]
        },
        {
          "output_type": "stream",
          "name": "stderr",
          "text": [
            " 90%|█████████ | 451/500 [00:07<00:00, 60.78it/s]"
          ]
        },
        {
          "output_type": "stream",
          "name": "stdout",
          "text": [
            "Epoch: 0441 loss_train: 0.0435 acc_train: 0.9991 loss_val: 0.2188 acc_val: 0.9754 time: 0.0177s\n",
            "Epoch: 0451 loss_train: 0.0354 acc_train: 1.0000 loss_val: 0.2166 acc_val: 0.9763 time: 0.0146s\n"
          ]
        },
        {
          "output_type": "stream",
          "name": "stderr",
          "text": [
            " 94%|█████████▍| 472/500 [00:08<00:00, 58.76it/s]"
          ]
        },
        {
          "output_type": "stream",
          "name": "stdout",
          "text": [
            "Epoch: 0461 loss_train: 0.0366 acc_train: 1.0000 loss_val: 0.2167 acc_val: 0.9773 time: 0.0165s\n",
            "Epoch: 0471 loss_train: 0.0381 acc_train: 0.9981 loss_val: 0.2163 acc_val: 0.9773 time: 0.0161s\n"
          ]
        },
        {
          "output_type": "stream",
          "name": "stderr",
          "text": [
            " 98%|█████████▊| 491/500 [00:08<00:00, 59.58it/s]"
          ]
        },
        {
          "output_type": "stream",
          "name": "stdout",
          "text": [
            "Epoch: 0481 loss_train: 0.0357 acc_train: 0.9991 loss_val: 0.2129 acc_val: 0.9773 time: 0.0153s\n",
            "Epoch: 0491 loss_train: 0.0355 acc_train: 1.0000 loss_val: 0.2121 acc_val: 0.9811 time: 0.0167s\n"
          ]
        },
        {
          "output_type": "stream",
          "name": "stderr",
          "text": [
            "100%|██████████| 500/500 [00:08<00:00, 58.82it/s]"
          ]
        },
        {
          "output_type": "stream",
          "name": "stdout",
          "text": [
            "Model training is complete!\n",
            "Total model training time: 8.5089s\n"
          ]
        },
        {
          "output_type": "stream",
          "name": "stderr",
          "text": [
            "\n"
          ]
        }
      ]
    },
    {
      "cell_type": "markdown",
      "source": [
        "Plotting the embedding space"
      ],
      "metadata": {
        "id": "KcLLCSWKn34F"
      }
    },
    {
      "cell_type": "code",
      "source": [
        "import numpy as np\n",
        "import matplotlib.pyplot as plt\n",
        "import matplotlib as mpl\n",
        "from matplotlib.colors import ListedColormap, LinearSegmentedColormap\n",
        "\n",
        "def plot_examples(color_mat,colormaps):\n",
        "    \"\"\"\n",
        "    Helper function to plot color_mat with associated colormap.\n",
        "    \"\"\"    \n",
        "    fig, axs = plt.subplots(constrained_layout=True, squeeze=False)\n",
        "    ax=axs.flat[0]\n",
        "    cmap=colormaps\n",
        "    psm = ax.pcolormesh(color_mat, cmap=cmap, rasterized=True, vmin=0, vmax=20)\n",
        "    fig.colorbar(psm, ax=ax)\n",
        "    plt.savefig('graph.jpeg')\n",
        "\n",
        "for embedding_mat in model.embed.parameters():\n",
        "  print(embedding_mat)\n",
        "  max_x=torch.max(embedding_mat[:,0]).detach()\n",
        "  min_x=torch.min(embedding_mat[:,0]).detach()\n",
        "  max_y=torch.max(embedding_mat[:,1]).detach()\n",
        "  min_y=torch.min(embedding_mat[:,1]).detach()\n",
        "\n",
        "grid_size=100\n",
        "x_step=(max_x-min_x)/grid_size\n",
        "y_step=(max_y-min_y)/grid_size\n",
        "color_mat=np.empty((grid_size,grid_size))\n",
        "\n",
        "\n",
        "for i in tqdm(range(grid_size)):\n",
        "  for j in tqdm(range(grid_size)):\n",
        "    emb_x=min_x+x_step*i\n",
        "    emb_y=min_y+y_step*j\n",
        "    dummy_input=torch.zeros((node_count,2),dtype=torch.float32)\n",
        "    dummy_input[0][0]=emb_x\n",
        "    dummy_input[0][1]=emb_y\n",
        "    color_mat[i][j]=torch.argmax(model.decode(dummy_input,edge_index)[0]).item()\n",
        "\n",
        "print(color_mat)\n",
        "\n",
        "viridis = mpl.colormaps['viridis'].resampled(256)\n",
        "plot_examples(color_mat,viridis)"
      ],
      "metadata": {
        "colab": {
          "base_uri": "https://localhost:8080/",
          "height": 1000
        },
        "id": "Dp2gvoTnNPIM",
        "outputId": "e735983e-e598-4565-b49f-5a5ddd1a98d5"
      },
      "execution_count": 18,
      "outputs": [
        {
          "output_type": "stream",
          "name": "stdout",
          "text": [
            "Parameter containing:\n",
            "tensor([[ 0.3675, -0.1909],\n",
            "        [-0.3695,  0.0448],\n",
            "        [ 0.0451,  0.0972],\n",
            "        ...,\n",
            "        [ 0.0786, -0.0733],\n",
            "        [-0.0640,  0.1566],\n",
            "        [ 0.1153,  0.2788]], requires_grad=True)\n"
          ]
        },
        {
          "output_type": "stream",
          "name": "stderr",
          "text": [
            "  0%|          | 0/100 [00:00<?, ?it/s]\n",
            "  0%|          | 0/100 [00:00<?, ?it/s]\u001b[A\n",
            " 20%|██        | 20/100 [00:00<00:00, 197.41it/s]\u001b[A\n",
            " 40%|████      | 40/100 [00:00<00:00, 198.18it/s]\u001b[A\n",
            " 62%|██████▏   | 62/100 [00:00<00:00, 204.08it/s]\u001b[A\n",
            "100%|██████████| 100/100 [00:00<00:00, 204.08it/s]\n",
            "  1%|          | 1/100 [00:00<00:49,  2.00it/s]\n",
            "  0%|          | 0/100 [00:00<?, ?it/s]\u001b[A\n",
            " 22%|██▏       | 22/100 [00:00<00:00, 214.82it/s]\u001b[A\n",
            " 44%|████▍     | 44/100 [00:00<00:00, 210.28it/s]\u001b[A\n",
            " 66%|██████▌   | 66/100 [00:00<00:00, 210.51it/s]\u001b[A\n",
            "100%|██████████| 100/100 [00:00<00:00, 204.21it/s]\n",
            "  2%|▏         | 2/100 [00:01<00:49,  1.98it/s]\n",
            "  0%|          | 0/100 [00:00<?, ?it/s]\u001b[A\n",
            " 21%|██        | 21/100 [00:00<00:00, 205.79it/s]\u001b[A\n",
            " 42%|████▏     | 42/100 [00:00<00:00, 207.15it/s]\u001b[A\n",
            " 63%|██████▎   | 63/100 [00:00<00:00, 207.92it/s]\u001b[A\n",
            "100%|██████████| 100/100 [00:00<00:00, 203.96it/s]\n",
            "  3%|▎         | 3/100 [00:01<00:48,  1.98it/s]\n",
            "  0%|          | 0/100 [00:00<?, ?it/s]\u001b[A\n",
            " 22%|██▏       | 22/100 [00:00<00:00, 213.93it/s]\u001b[A\n",
            " 44%|████▍     | 44/100 [00:00<00:00, 206.08it/s]\u001b[A\n",
            " 65%|██████▌   | 65/100 [00:00<00:00, 202.00it/s]\u001b[A\n",
            "100%|██████████| 100/100 [00:00<00:00, 199.47it/s]\n",
            "  4%|▍         | 4/100 [00:02<00:48,  1.96it/s]\n",
            "  0%|          | 0/100 [00:00<?, ?it/s]\u001b[A\n",
            " 23%|██▎       | 23/100 [00:00<00:00, 222.16it/s]\u001b[A\n",
            " 46%|████▌     | 46/100 [00:00<00:00, 214.13it/s]\u001b[A\n",
            " 68%|██████▊   | 68/100 [00:00<00:00, 211.22it/s]\u001b[A\n",
            "100%|██████████| 100/100 [00:00<00:00, 203.89it/s]\n",
            "  5%|▌         | 5/100 [00:02<00:48,  1.96it/s]\n",
            "  0%|          | 0/100 [00:00<?, ?it/s]\u001b[A\n",
            " 21%|██        | 21/100 [00:00<00:00, 201.98it/s]\u001b[A\n",
            " 42%|████▏     | 42/100 [00:00<00:00, 205.89it/s]\u001b[A\n",
            " 63%|██████▎   | 63/100 [00:00<00:00, 200.18it/s]\u001b[A\n",
            "100%|██████████| 100/100 [00:00<00:00, 196.25it/s]\n",
            "  6%|▌         | 6/100 [00:03<00:48,  1.95it/s]\n",
            "  0%|          | 0/100 [00:00<?, ?it/s]\u001b[A\n",
            " 21%|██        | 21/100 [00:00<00:00, 206.97it/s]\u001b[A\n",
            " 42%|████▏     | 42/100 [00:00<00:00, 193.70it/s]\u001b[A\n",
            " 63%|██████▎   | 63/100 [00:00<00:00, 199.96it/s]\u001b[A\n",
            "100%|██████████| 100/100 [00:00<00:00, 201.26it/s]\n",
            "  7%|▋         | 7/100 [00:03<00:47,  1.95it/s]\n",
            "  0%|          | 0/100 [00:00<?, ?it/s]\u001b[A\n",
            " 22%|██▏       | 22/100 [00:00<00:00, 215.49it/s]\u001b[A\n",
            " 44%|████▍     | 44/100 [00:00<00:00, 207.44it/s]\u001b[A\n",
            " 66%|██████▌   | 66/100 [00:00<00:00, 209.77it/s]\u001b[A\n",
            "100%|██████████| 100/100 [00:00<00:00, 204.95it/s]\n",
            "  8%|▊         | 8/100 [00:04<00:46,  1.96it/s]\n",
            "  0%|          | 0/100 [00:00<?, ?it/s]\u001b[A\n",
            " 22%|██▏       | 22/100 [00:00<00:00, 213.17it/s]\u001b[A\n",
            " 44%|████▍     | 44/100 [00:00<00:00, 206.05it/s]\u001b[A\n",
            " 66%|██████▌   | 66/100 [00:00<00:00, 208.40it/s]\u001b[A\n",
            "100%|██████████| 100/100 [00:00<00:00, 206.82it/s]\n",
            "  9%|▉         | 9/100 [00:04<00:46,  1.98it/s]\n",
            "  0%|          | 0/100 [00:00<?, ?it/s]\u001b[A\n",
            " 20%|██        | 20/100 [00:00<00:00, 192.04it/s]\u001b[A\n",
            " 40%|████      | 40/100 [00:00<00:00, 195.73it/s]\u001b[A\n",
            " 62%|██████▏   | 62/100 [00:00<00:00, 205.41it/s]\u001b[A\n",
            "100%|██████████| 100/100 [00:00<00:00, 202.20it/s]\n",
            " 10%|█         | 10/100 [00:05<00:45,  1.97it/s]\n",
            "  0%|          | 0/100 [00:00<?, ?it/s]\u001b[A\n",
            " 20%|██        | 20/100 [00:00<00:00, 199.17it/s]\u001b[A\n",
            " 40%|████      | 40/100 [00:00<00:00, 188.99it/s]\u001b[A\n",
            " 59%|█████▉    | 59/100 [00:00<00:00, 185.73it/s]\u001b[A\n",
            " 78%|███████▊  | 78/100 [00:00<00:00, 184.37it/s]\u001b[A\n",
            "100%|██████████| 100/100 [00:00<00:00, 183.25it/s]\n",
            " 11%|█         | 11/100 [00:05<00:46,  1.91it/s]\n",
            "  0%|          | 0/100 [00:00<?, ?it/s]\u001b[A\n",
            " 19%|█▉        | 19/100 [00:00<00:00, 188.55it/s]\u001b[A\n",
            " 38%|███▊      | 38/100 [00:00<00:00, 172.87it/s]\u001b[A\n",
            " 58%|█████▊    | 58/100 [00:00<00:00, 184.53it/s]\u001b[A\n",
            " 78%|███████▊  | 78/100 [00:00<00:00, 188.75it/s]\u001b[A\n",
            "100%|██████████| 100/100 [00:00<00:00, 184.82it/s]\n",
            " 12%|█▏        | 12/100 [00:06<00:46,  1.88it/s]\n",
            "  0%|          | 0/100 [00:00<?, ?it/s]\u001b[A\n",
            " 23%|██▎       | 23/100 [00:00<00:00, 227.76it/s]\u001b[A\n",
            " 46%|████▌     | 46/100 [00:00<00:00, 214.05it/s]\u001b[A\n",
            " 68%|██████▊   | 68/100 [00:00<00:00, 211.36it/s]\u001b[A\n",
            "100%|██████████| 100/100 [00:00<00:00, 208.51it/s]\n",
            " 13%|█▎        | 13/100 [00:06<00:45,  1.92it/s]\n",
            "  0%|          | 0/100 [00:00<?, ?it/s]\u001b[A\n",
            " 22%|██▏       | 22/100 [00:00<00:00, 211.53it/s]\u001b[A\n",
            " 44%|████▍     | 44/100 [00:00<00:00, 211.61it/s]\u001b[A\n",
            " 66%|██████▌   | 66/100 [00:00<00:00, 206.46it/s]\u001b[A\n",
            "100%|██████████| 100/100 [00:00<00:00, 201.02it/s]\n",
            " 14%|█▍        | 14/100 [00:07<00:44,  1.94it/s]\n",
            "  0%|          | 0/100 [00:00<?, ?it/s]\u001b[A\n",
            " 20%|██        | 20/100 [00:00<00:00, 199.60it/s]\u001b[A\n",
            " 40%|████      | 40/100 [00:00<00:00, 191.91it/s]\u001b[A\n",
            " 60%|██████    | 60/100 [00:00<00:00, 190.79it/s]\u001b[A\n",
            " 80%|████████  | 80/100 [00:00<00:00, 190.41it/s]\u001b[A\n",
            "100%|██████████| 100/100 [00:00<00:00, 181.29it/s]\n",
            " 15%|█▌        | 15/100 [00:07<00:45,  1.89it/s]\n",
            "  0%|          | 0/100 [00:00<?, ?it/s]\u001b[A\n",
            " 17%|█▋        | 17/100 [00:00<00:00, 168.19it/s]\u001b[A\n",
            " 38%|███▊      | 38/100 [00:00<00:00, 186.92it/s]\u001b[A\n",
            " 59%|█████▉    | 59/100 [00:00<00:00, 196.12it/s]\u001b[A\n",
            " 79%|███████▉  | 79/100 [00:00<00:00, 197.19it/s]\u001b[A\n",
            "100%|██████████| 100/100 [00:00<00:00, 193.72it/s]\n",
            " 16%|█▌        | 16/100 [00:08<00:44,  1.88it/s]\n",
            "  0%|          | 0/100 [00:00<?, ?it/s]\u001b[A\n",
            " 21%|██        | 21/100 [00:00<00:00, 208.06it/s]\u001b[A\n",
            " 42%|████▏     | 42/100 [00:00<00:00, 208.77it/s]\u001b[A\n",
            " 63%|██████▎   | 63/100 [00:00<00:00, 205.07it/s]\u001b[A\n",
            "100%|██████████| 100/100 [00:00<00:00, 204.20it/s]\n",
            " 17%|█▋        | 17/100 [00:08<00:43,  1.92it/s]\n",
            "  0%|          | 0/100 [00:00<?, ?it/s]\u001b[A\n",
            " 22%|██▏       | 22/100 [00:00<00:00, 211.00it/s]\u001b[A\n",
            " 44%|████▍     | 44/100 [00:00<00:00, 209.30it/s]\u001b[A\n",
            " 66%|██████▌   | 66/100 [00:00<00:00, 210.40it/s]\u001b[A\n",
            "100%|██████████| 100/100 [00:00<00:00, 200.75it/s]\n",
            " 18%|█▊        | 18/100 [00:09<00:42,  1.92it/s]\n",
            "  0%|          | 0/100 [00:00<?, ?it/s]\u001b[A\n",
            " 23%|██▎       | 23/100 [00:00<00:00, 221.00it/s]\u001b[A\n",
            " 46%|████▌     | 46/100 [00:00<00:00, 214.23it/s]\u001b[A\n",
            " 68%|██████▊   | 68/100 [00:00<00:00, 211.02it/s]\u001b[A\n",
            "100%|██████████| 100/100 [00:00<00:00, 207.37it/s]\n",
            " 19%|█▉        | 19/100 [00:09<00:41,  1.95it/s]\n",
            "  0%|          | 0/100 [00:00<?, ?it/s]\u001b[A\n",
            " 23%|██▎       | 23/100 [00:00<00:00, 221.91it/s]\u001b[A\n",
            " 46%|████▌     | 46/100 [00:00<00:00, 203.71it/s]\u001b[A\n",
            " 67%|██████▋   | 67/100 [00:00<00:00, 202.01it/s]\u001b[A\n",
            "100%|██████████| 100/100 [00:00<00:00, 200.94it/s]\n",
            " 20%|██        | 20/100 [00:10<00:40,  1.96it/s]\n",
            "  0%|          | 0/100 [00:00<?, ?it/s]\u001b[A\n",
            " 20%|██        | 20/100 [00:00<00:00, 192.86it/s]\u001b[A\n",
            " 40%|████      | 40/100 [00:00<00:00, 187.89it/s]\u001b[A\n",
            " 60%|██████    | 60/100 [00:00<00:00, 190.07it/s]\u001b[A\n",
            " 80%|████████  | 80/100 [00:00<00:00, 188.95it/s]\u001b[A\n",
            "100%|██████████| 100/100 [00:00<00:00, 183.91it/s]\n",
            " 21%|██        | 21/100 [00:10<00:41,  1.91it/s]\n",
            "  0%|          | 0/100 [00:00<?, ?it/s]\u001b[A\n",
            " 22%|██▏       | 22/100 [00:00<00:00, 212.01it/s]\u001b[A\n",
            " 44%|████▍     | 44/100 [00:00<00:00, 193.29it/s]\u001b[A\n",
            " 64%|██████▍   | 64/100 [00:00<00:00, 192.99it/s]\u001b[A\n",
            "100%|██████████| 100/100 [00:00<00:00, 189.79it/s]\n",
            " 22%|██▏       | 22/100 [00:11<00:41,  1.89it/s]\n",
            "  0%|          | 0/100 [00:00<?, ?it/s]\u001b[A\n",
            " 19%|█▉        | 19/100 [00:00<00:00, 189.57it/s]\u001b[A\n",
            " 38%|███▊      | 38/100 [00:00<00:00, 188.41it/s]\u001b[A\n",
            " 57%|█████▋    | 57/100 [00:00<00:00, 182.79it/s]\u001b[A\n",
            " 76%|███████▌  | 76/100 [00:00<00:00, 180.68it/s]\u001b[A\n",
            "100%|██████████| 100/100 [00:00<00:00, 180.11it/s]\n",
            " 23%|██▎       | 23/100 [00:11<00:41,  1.85it/s]\n",
            "  0%|          | 0/100 [00:00<?, ?it/s]\u001b[A\n",
            " 22%|██▏       | 22/100 [00:00<00:00, 214.50it/s]\u001b[A\n",
            " 44%|████▍     | 44/100 [00:00<00:00, 199.34it/s]\u001b[A\n",
            " 65%|██████▌   | 65/100 [00:00<00:00, 193.18it/s]\u001b[A\n",
            "100%|██████████| 100/100 [00:00<00:00, 194.58it/s]\n",
            " 24%|██▍       | 24/100 [00:12<00:41,  1.85it/s]\n",
            "  0%|          | 0/100 [00:00<?, ?it/s]\u001b[A\n",
            " 22%|██▏       | 22/100 [00:00<00:00, 215.87it/s]\u001b[A\n",
            " 44%|████▍     | 44/100 [00:00<00:00, 212.10it/s]\u001b[A\n",
            " 66%|██████▌   | 66/100 [00:00<00:00, 205.94it/s]\u001b[A\n",
            "100%|██████████| 100/100 [00:00<00:00, 203.00it/s]\n",
            " 25%|██▌       | 25/100 [00:13<00:39,  1.89it/s]\n",
            "  0%|          | 0/100 [00:00<?, ?it/s]\u001b[A\n",
            " 22%|██▏       | 22/100 [00:00<00:00, 213.49it/s]\u001b[A\n",
            " 44%|████▍     | 44/100 [00:00<00:00, 207.44it/s]\u001b[A\n",
            " 65%|██████▌   | 65/100 [00:00<00:00, 206.60it/s]\u001b[A\n",
            "100%|██████████| 100/100 [00:00<00:00, 203.58it/s]\n",
            " 26%|██▌       | 26/100 [00:13<00:38,  1.91it/s]\n",
            "  0%|          | 0/100 [00:00<?, ?it/s]\u001b[A\n",
            " 22%|██▏       | 22/100 [00:00<00:00, 214.56it/s]\u001b[A\n",
            " 44%|████▍     | 44/100 [00:00<00:00, 204.08it/s]\u001b[A\n",
            " 65%|██████▌   | 65/100 [00:00<00:00, 192.72it/s]\u001b[A\n",
            "100%|██████████| 100/100 [00:00<00:00, 196.20it/s]\n",
            " 27%|██▋       | 27/100 [00:14<00:38,  1.91it/s]\n",
            "  0%|          | 0/100 [00:00<?, ?it/s]\u001b[A\n",
            " 20%|██        | 20/100 [00:00<00:00, 193.75it/s]\u001b[A\n",
            " 40%|████      | 40/100 [00:00<00:00, 184.41it/s]\u001b[A\n",
            " 59%|█████▉    | 59/100 [00:00<00:00, 183.95it/s]\u001b[A\n",
            " 78%|███████▊  | 78/100 [00:00<00:00, 183.43it/s]\u001b[A\n",
            "100%|██████████| 100/100 [00:00<00:00, 180.32it/s]\n",
            " 28%|██▊       | 28/100 [00:14<00:38,  1.86it/s]\n",
            "  0%|          | 0/100 [00:00<?, ?it/s]\u001b[A\n",
            " 17%|█▋        | 17/100 [00:00<00:00, 167.13it/s]\u001b[A\n",
            " 36%|███▌      | 36/100 [00:00<00:00, 177.69it/s]\u001b[A\n",
            " 54%|█████▍    | 54/100 [00:00<00:00, 172.53it/s]\u001b[A\n",
            " 75%|███████▌  | 75/100 [00:00<00:00, 185.76it/s]\u001b[A\n",
            "100%|██████████| 100/100 [00:00<00:00, 183.67it/s]\n",
            " 29%|██▉       | 29/100 [00:15<00:38,  1.84it/s]\n",
            "  0%|          | 0/100 [00:00<?, ?it/s]\u001b[A\n",
            " 21%|██        | 21/100 [00:00<00:00, 202.26it/s]\u001b[A\n",
            " 42%|████▏     | 42/100 [00:00<00:00, 197.64it/s]\u001b[A\n",
            " 63%|██████▎   | 63/100 [00:00<00:00, 201.24it/s]\u001b[A\n",
            "100%|██████████| 100/100 [00:00<00:00, 201.01it/s]\n",
            " 30%|███       | 30/100 [00:15<00:37,  1.87it/s]\n",
            "  0%|          | 0/100 [00:00<?, ?it/s]\u001b[A\n",
            " 23%|██▎       | 23/100 [00:00<00:00, 227.74it/s]\u001b[A\n",
            " 46%|████▌     | 46/100 [00:00<00:00, 202.74it/s]\u001b[A\n",
            " 67%|██████▋   | 67/100 [00:00<00:00, 201.24it/s]\u001b[A\n",
            "100%|██████████| 100/100 [00:00<00:00, 202.88it/s]\n",
            " 31%|███       | 31/100 [00:16<00:36,  1.90it/s]\n",
            "  0%|          | 0/100 [00:00<?, ?it/s]\u001b[A\n",
            " 22%|██▏       | 22/100 [00:00<00:00, 216.71it/s]\u001b[A\n",
            " 44%|████▍     | 44/100 [00:00<00:00, 209.89it/s]\u001b[A\n",
            " 66%|██████▌   | 66/100 [00:00<00:00, 206.95it/s]\u001b[A\n",
            "100%|██████████| 100/100 [00:00<00:00, 201.32it/s]\n",
            " 32%|███▏      | 32/100 [00:16<00:35,  1.92it/s]\n",
            "  0%|          | 0/100 [00:00<?, ?it/s]\u001b[A\n",
            " 24%|██▍       | 24/100 [00:00<00:00, 230.63it/s]\u001b[A\n",
            " 48%|████▊     | 48/100 [00:00<00:00, 205.27it/s]\u001b[A\n",
            " 69%|██████▉   | 69/100 [00:00<00:00, 202.83it/s]\u001b[A\n",
            "100%|██████████| 100/100 [00:00<00:00, 201.26it/s]\n",
            " 33%|███▎      | 33/100 [00:17<00:34,  1.92it/s]\n",
            "  0%|          | 0/100 [00:00<?, ?it/s]\u001b[A\n",
            " 21%|██        | 21/100 [00:00<00:00, 209.19it/s]\u001b[A\n",
            " 42%|████▏     | 42/100 [00:00<00:00, 203.67it/s]\u001b[A\n",
            " 63%|██████▎   | 63/100 [00:00<00:00, 205.44it/s]\u001b[A\n",
            "100%|██████████| 100/100 [00:00<00:00, 203.02it/s]\n",
            " 34%|███▍      | 34/100 [00:17<00:34,  1.93it/s]\n",
            "  0%|          | 0/100 [00:00<?, ?it/s]\u001b[A\n",
            " 21%|██        | 21/100 [00:00<00:00, 204.28it/s]\u001b[A\n",
            " 42%|████▏     | 42/100 [00:00<00:00, 194.25it/s]\u001b[A\n",
            " 62%|██████▏   | 62/100 [00:00<00:00, 190.51it/s]\u001b[A\n",
            "100%|██████████| 100/100 [00:00<00:00, 194.44it/s]\n",
            " 35%|███▌      | 35/100 [00:18<00:33,  1.92it/s]\n",
            "  0%|          | 0/100 [00:00<?, ?it/s]\u001b[A\n",
            " 19%|█▉        | 19/100 [00:00<00:00, 183.41it/s]\u001b[A\n",
            " 40%|████      | 40/100 [00:00<00:00, 194.74it/s]\u001b[A\n",
            " 61%|██████    | 61/100 [00:00<00:00, 201.09it/s]\u001b[A\n",
            "100%|██████████| 100/100 [00:00<00:00, 198.19it/s]\n",
            " 36%|███▌      | 36/100 [00:18<00:33,  1.92it/s]\n",
            "  0%|          | 0/100 [00:00<?, ?it/s]\u001b[A\n",
            " 23%|██▎       | 23/100 [00:00<00:00, 224.58it/s]\u001b[A\n",
            " 46%|████▌     | 46/100 [00:00<00:00, 191.98it/s]\u001b[A\n",
            " 66%|██████▌   | 66/100 [00:00<00:00, 189.57it/s]\u001b[A\n",
            "100%|██████████| 100/100 [00:00<00:00, 193.52it/s]\n",
            " 37%|███▋      | 37/100 [00:19<00:33,  1.90it/s]\n",
            "  0%|          | 0/100 [00:00<?, ?it/s]\u001b[A\n",
            " 22%|██▏       | 22/100 [00:00<00:00, 217.16it/s]\u001b[A\n",
            " 44%|████▍     | 44/100 [00:00<00:00, 213.29it/s]\u001b[A\n",
            " 66%|██████▌   | 66/100 [00:00<00:00, 209.34it/s]\u001b[A\n",
            "100%|██████████| 100/100 [00:00<00:00, 208.24it/s]\n",
            " 38%|███▊      | 38/100 [00:19<00:32,  1.93it/s]\n",
            "  0%|          | 0/100 [00:00<?, ?it/s]\u001b[A\n",
            " 21%|██        | 21/100 [00:00<00:00, 203.37it/s]\u001b[A\n",
            " 42%|████▏     | 42/100 [00:00<00:00, 188.29it/s]\u001b[A\n",
            " 63%|██████▎   | 63/100 [00:00<00:00, 194.77it/s]\u001b[A\n",
            "100%|██████████| 100/100 [00:00<00:00, 197.09it/s]\n",
            " 39%|███▉      | 39/100 [00:20<00:31,  1.93it/s]\n",
            "  0%|          | 0/100 [00:00<?, ?it/s]\u001b[A\n",
            " 20%|██        | 20/100 [00:00<00:00, 197.53it/s]\u001b[A\n",
            " 40%|████      | 40/100 [00:00<00:00, 189.10it/s]\u001b[A\n",
            " 61%|██████    | 61/100 [00:00<00:00, 197.68it/s]\u001b[A\n",
            "100%|██████████| 100/100 [00:00<00:00, 197.56it/s]\n",
            " 40%|████      | 40/100 [00:20<00:31,  1.93it/s]\n",
            "  0%|          | 0/100 [00:00<?, ?it/s]\u001b[A\n",
            " 21%|██        | 21/100 [00:00<00:00, 207.52it/s]\u001b[A\n",
            " 42%|████▏     | 42/100 [00:00<00:00, 201.06it/s]\u001b[A\n",
            " 63%|██████▎   | 63/100 [00:00<00:00, 204.84it/s]\u001b[A\n",
            "100%|██████████| 100/100 [00:00<00:00, 201.20it/s]\n",
            " 41%|████      | 41/100 [00:21<00:30,  1.94it/s]\n",
            "  0%|          | 0/100 [00:00<?, ?it/s]\u001b[A\n",
            " 22%|██▏       | 22/100 [00:00<00:00, 213.26it/s]\u001b[A\n",
            " 44%|████▍     | 44/100 [00:00<00:00, 212.27it/s]\u001b[A\n",
            " 66%|██████▌   | 66/100 [00:00<00:00, 211.79it/s]\u001b[A\n",
            "100%|██████████| 100/100 [00:00<00:00, 210.39it/s]\n",
            " 42%|████▏     | 42/100 [00:21<00:29,  1.97it/s]\n",
            "  0%|          | 0/100 [00:00<?, ?it/s]\u001b[A\n",
            " 20%|██        | 20/100 [00:00<00:00, 195.57it/s]\u001b[A\n",
            " 40%|████      | 40/100 [00:00<00:00, 191.18it/s]\u001b[A\n",
            " 61%|██████    | 61/100 [00:00<00:00, 196.78it/s]\u001b[A\n",
            "100%|██████████| 100/100 [00:00<00:00, 195.31it/s]\n",
            " 43%|████▎     | 43/100 [00:22<00:29,  1.94it/s]\n",
            "  0%|          | 0/100 [00:00<?, ?it/s]\u001b[A\n",
            " 19%|█▉        | 19/100 [00:00<00:00, 186.96it/s]\u001b[A\n",
            " 38%|███▊      | 38/100 [00:00<00:00, 183.48it/s]\u001b[A\n",
            " 57%|█████▋    | 57/100 [00:00<00:00, 185.67it/s]\u001b[A\n",
            " 76%|███████▌  | 76/100 [00:00<00:00, 185.05it/s]\u001b[A\n",
            "100%|██████████| 100/100 [00:00<00:00, 183.17it/s]\n",
            " 44%|████▍     | 44/100 [00:22<00:29,  1.89it/s]\n",
            "  0%|          | 0/100 [00:00<?, ?it/s]\u001b[A\n",
            " 17%|█▋        | 17/100 [00:00<00:00, 165.36it/s]\u001b[A\n",
            " 36%|███▌      | 36/100 [00:00<00:00, 177.96it/s]\u001b[A\n",
            " 55%|█████▌    | 55/100 [00:00<00:00, 181.74it/s]\u001b[A\n",
            " 76%|███████▌  | 76/100 [00:00<00:00, 189.95it/s]\u001b[A\n",
            "100%|██████████| 100/100 [00:00<00:00, 183.51it/s]\n",
            " 45%|████▌     | 45/100 [00:23<00:29,  1.86it/s]\n",
            "  0%|          | 0/100 [00:00<?, ?it/s]\u001b[A\n",
            " 22%|██▏       | 22/100 [00:00<00:00, 216.28it/s]\u001b[A\n",
            " 44%|████▍     | 44/100 [00:00<00:00, 198.89it/s]\u001b[A\n",
            " 64%|██████▍   | 64/100 [00:00<00:00, 195.66it/s]\u001b[A\n",
            "100%|██████████| 100/100 [00:00<00:00, 200.57it/s]\n",
            " 46%|████▌     | 46/100 [00:24<00:28,  1.88it/s]\n",
            "  0%|          | 0/100 [00:00<?, ?it/s]\u001b[A\n",
            " 20%|██        | 20/100 [00:00<00:00, 196.75it/s]\u001b[A\n",
            " 40%|████      | 40/100 [00:00<00:00, 185.77it/s]\u001b[A\n",
            " 60%|██████    | 60/100 [00:00<00:00, 191.40it/s]\u001b[A\n",
            " 80%|████████  | 80/100 [00:00<00:00, 193.29it/s]\u001b[A\n",
            "100%|██████████| 100/100 [00:00<00:00, 190.90it/s]\n",
            " 47%|████▋     | 47/100 [00:24<00:28,  1.87it/s]\n",
            "  0%|          | 0/100 [00:00<?, ?it/s]\u001b[A\n",
            " 21%|██        | 21/100 [00:00<00:00, 206.86it/s]\u001b[A\n",
            " 42%|████▏     | 42/100 [00:00<00:00, 206.78it/s]\u001b[A\n",
            " 63%|██████▎   | 63/100 [00:00<00:00, 205.50it/s]\u001b[A\n",
            "100%|██████████| 100/100 [00:00<00:00, 202.56it/s]\n",
            " 48%|████▊     | 48/100 [00:25<00:27,  1.90it/s]\n",
            "  0%|          | 0/100 [00:00<?, ?it/s]\u001b[A\n",
            " 19%|█▉        | 19/100 [00:00<00:00, 188.40it/s]\u001b[A\n",
            " 40%|████      | 40/100 [00:00<00:00, 200.88it/s]\u001b[A\n",
            " 61%|██████    | 61/100 [00:00<00:00, 196.28it/s]\u001b[A\n",
            "100%|██████████| 100/100 [00:00<00:00, 199.38it/s]\n",
            " 49%|████▉     | 49/100 [00:25<00:26,  1.92it/s]\n",
            "  0%|          | 0/100 [00:00<?, ?it/s]\u001b[A\n",
            " 23%|██▎       | 23/100 [00:00<00:00, 220.37it/s]\u001b[A\n",
            " 46%|████▌     | 46/100 [00:00<00:00, 203.60it/s]\u001b[A\n",
            " 67%|██████▋   | 67/100 [00:00<00:00, 199.40it/s]\u001b[A\n",
            "100%|██████████| 100/100 [00:00<00:00, 190.66it/s]\n",
            " 50%|█████     | 50/100 [00:26<00:26,  1.90it/s]\n",
            "  0%|          | 0/100 [00:00<?, ?it/s]\u001b[A\n",
            " 21%|██        | 21/100 [00:00<00:00, 206.77it/s]\u001b[A\n",
            " 42%|████▏     | 42/100 [00:00<00:00, 207.12it/s]\u001b[A\n",
            " 63%|██████▎   | 63/100 [00:00<00:00, 203.58it/s]\u001b[A\n",
            "100%|██████████| 100/100 [00:00<00:00, 203.95it/s]\n",
            " 51%|█████     | 51/100 [00:26<00:25,  1.93it/s]\n",
            "  0%|          | 0/100 [00:00<?, ?it/s]\u001b[A\n",
            " 23%|██▎       | 23/100 [00:00<00:00, 222.71it/s]\u001b[A\n",
            " 46%|████▌     | 46/100 [00:00<00:00, 209.27it/s]\u001b[A\n",
            " 67%|██████▋   | 67/100 [00:00<00:00, 203.03it/s]\u001b[A\n",
            "100%|██████████| 100/100 [00:00<00:00, 201.37it/s]\n",
            " 52%|█████▏    | 52/100 [00:27<00:24,  1.93it/s]\n",
            "  0%|          | 0/100 [00:00<?, ?it/s]\u001b[A\n",
            " 22%|██▏       | 22/100 [00:00<00:00, 212.82it/s]\u001b[A\n",
            " 44%|████▍     | 44/100 [00:00<00:00, 206.54it/s]\u001b[A\n",
            " 65%|██████▌   | 65/100 [00:00<00:00, 206.03it/s]\u001b[A\n",
            "100%|██████████| 100/100 [00:00<00:00, 203.16it/s]\n",
            " 53%|█████▎    | 53/100 [00:27<00:24,  1.94it/s]\n",
            "  0%|          | 0/100 [00:00<?, ?it/s]\u001b[A\n",
            " 22%|██▏       | 22/100 [00:00<00:00, 214.21it/s]\u001b[A\n",
            " 44%|████▍     | 44/100 [00:00<00:00, 207.12it/s]\u001b[A\n",
            " 65%|██████▌   | 65/100 [00:00<00:00, 206.42it/s]\u001b[A\n",
            "100%|██████████| 100/100 [00:00<00:00, 201.37it/s]\n",
            " 54%|█████▍    | 54/100 [00:28<00:23,  1.95it/s]\n",
            "  0%|          | 0/100 [00:00<?, ?it/s]\u001b[A\n",
            " 22%|██▏       | 22/100 [00:00<00:00, 213.97it/s]\u001b[A\n",
            " 44%|████▍     | 44/100 [00:00<00:00, 202.08it/s]\u001b[A\n",
            " 65%|██████▌   | 65/100 [00:00<00:00, 204.25it/s]\u001b[A\n",
            "100%|██████████| 100/100 [00:00<00:00, 204.53it/s]\n",
            " 55%|█████▌    | 55/100 [00:28<00:23,  1.95it/s]\n",
            "  0%|          | 0/100 [00:00<?, ?it/s]\u001b[A\n",
            " 22%|██▏       | 22/100 [00:00<00:00, 215.71it/s]\u001b[A\n",
            " 44%|████▍     | 44/100 [00:00<00:00, 195.77it/s]\u001b[A\n",
            " 64%|██████▍   | 64/100 [00:00<00:00, 184.69it/s]\u001b[A\n",
            "100%|██████████| 100/100 [00:00<00:00, 188.12it/s]\n",
            " 56%|█████▌    | 56/100 [00:29<00:22,  1.92it/s]\n",
            "  0%|          | 0/100 [00:00<?, ?it/s]\u001b[A\n",
            " 20%|██        | 20/100 [00:00<00:00, 193.11it/s]\u001b[A\n",
            " 40%|████      | 40/100 [00:00<00:00, 183.68it/s]\u001b[A\n",
            " 59%|█████▉    | 59/100 [00:00<00:00, 185.72it/s]\u001b[A\n",
            " 78%|███████▊  | 78/100 [00:00<00:00, 180.35it/s]\u001b[A\n",
            "100%|██████████| 100/100 [00:00<00:00, 180.82it/s]\n",
            " 57%|█████▋    | 57/100 [00:29<00:23,  1.86it/s]\n",
            "  0%|          | 0/100 [00:00<?, ?it/s]\u001b[A\n",
            " 19%|█▉        | 19/100 [00:00<00:00, 188.45it/s]\u001b[A\n",
            " 39%|███▉      | 39/100 [00:00<00:00, 193.09it/s]\u001b[A\n",
            " 60%|██████    | 60/100 [00:00<00:00, 196.50it/s]\u001b[A\n",
            " 80%|████████  | 80/100 [00:00<00:00, 194.13it/s]\u001b[A\n",
            "100%|██████████| 100/100 [00:00<00:00, 188.92it/s]\n",
            " 58%|█████▊    | 58/100 [00:30<00:22,  1.86it/s]\n",
            "  0%|          | 0/100 [00:00<?, ?it/s]\u001b[A\n",
            " 18%|█▊        | 18/100 [00:00<00:00, 175.20it/s]\u001b[A\n",
            " 36%|███▌      | 36/100 [00:00<00:00, 177.15it/s]\u001b[A\n",
            " 55%|█████▌    | 55/100 [00:00<00:00, 182.61it/s]\u001b[A\n",
            " 74%|███████▍  | 74/100 [00:00<00:00, 177.95it/s]\u001b[A\n",
            "100%|██████████| 100/100 [00:00<00:00, 177.66it/s]\n",
            " 59%|█████▉    | 59/100 [00:30<00:22,  1.82it/s]\n",
            "  0%|          | 0/100 [00:00<?, ?it/s]\u001b[A\n",
            " 20%|██        | 20/100 [00:00<00:00, 196.65it/s]\u001b[A\n",
            " 40%|████      | 40/100 [00:00<00:00, 194.10it/s]\u001b[A\n",
            " 60%|██████    | 60/100 [00:00<00:00, 191.71it/s]\u001b[A\n",
            " 80%|████████  | 80/100 [00:00<00:00, 192.49it/s]\u001b[A\n",
            "100%|██████████| 100/100 [00:00<00:00, 189.11it/s]\n",
            " 60%|██████    | 60/100 [00:31<00:21,  1.82it/s]\n",
            "  0%|          | 0/100 [00:00<?, ?it/s]\u001b[A\n",
            " 21%|██        | 21/100 [00:00<00:00, 206.49it/s]\u001b[A\n",
            " 42%|████▏     | 42/100 [00:00<00:00, 205.93it/s]\u001b[A\n",
            " 63%|██████▎   | 63/100 [00:00<00:00, 206.39it/s]\u001b[A\n",
            "100%|██████████| 100/100 [00:00<00:00, 204.16it/s]\n",
            " 61%|██████    | 61/100 [00:31<00:20,  1.87it/s]\n",
            "  0%|          | 0/100 [00:00<?, ?it/s]\u001b[A\n",
            " 22%|██▏       | 22/100 [00:00<00:00, 212.30it/s]\u001b[A\n",
            " 44%|████▍     | 44/100 [00:00<00:00, 209.52it/s]\u001b[A\n",
            " 65%|██████▌   | 65/100 [00:00<00:00, 205.21it/s]\u001b[A\n",
            "100%|██████████| 100/100 [00:00<00:00, 202.52it/s]\n",
            " 62%|██████▏   | 62/100 [00:32<00:20,  1.90it/s]\n",
            "  0%|          | 0/100 [00:00<?, ?it/s]\u001b[A\n",
            " 22%|██▏       | 22/100 [00:00<00:00, 212.11it/s]\u001b[A\n",
            " 44%|████▍     | 44/100 [00:00<00:00, 209.69it/s]\u001b[A\n",
            " 66%|██████▌   | 66/100 [00:00<00:00, 210.82it/s]\u001b[A\n",
            "100%|██████████| 100/100 [00:00<00:00, 203.41it/s]\n",
            " 63%|██████▎   | 63/100 [00:32<00:19,  1.93it/s]\n",
            "  0%|          | 0/100 [00:00<?, ?it/s]\u001b[A\n",
            " 20%|██        | 20/100 [00:00<00:00, 199.25it/s]\u001b[A\n",
            " 40%|████      | 40/100 [00:00<00:00, 196.01it/s]\u001b[A\n",
            " 60%|██████    | 60/100 [00:00<00:00, 191.70it/s]\u001b[A\n",
            " 80%|████████  | 80/100 [00:00<00:00, 180.64it/s]\u001b[A\n",
            "100%|██████████| 100/100 [00:00<00:00, 179.86it/s]\n",
            " 64%|██████▍   | 64/100 [00:33<00:19,  1.87it/s]\n",
            "  0%|          | 0/100 [00:00<?, ?it/s]\u001b[A\n",
            " 20%|██        | 20/100 [00:00<00:00, 188.47it/s]\u001b[A\n",
            " 39%|███▉      | 39/100 [00:00<00:00, 181.50it/s]\u001b[A\n",
            " 58%|█████▊    | 58/100 [00:00<00:00, 184.92it/s]\u001b[A\n",
            " 78%|███████▊  | 78/100 [00:00<00:00, 189.61it/s]\u001b[A\n",
            "100%|██████████| 100/100 [00:00<00:00, 187.21it/s]\n",
            " 65%|██████▌   | 65/100 [00:34<00:18,  1.86it/s]\n",
            "  0%|          | 0/100 [00:00<?, ?it/s]\u001b[A\n",
            " 20%|██        | 20/100 [00:00<00:00, 197.69it/s]\u001b[A\n",
            " 40%|████      | 40/100 [00:00<00:00, 196.52it/s]\u001b[A\n",
            " 60%|██████    | 60/100 [00:00<00:00, 192.16it/s]\u001b[A\n",
            "100%|██████████| 100/100 [00:00<00:00, 197.14it/s]\n",
            " 66%|██████▌   | 66/100 [00:34<00:18,  1.87it/s]\n",
            "  0%|          | 0/100 [00:00<?, ?it/s]\u001b[A\n",
            " 21%|██        | 21/100 [00:00<00:00, 205.16it/s]\u001b[A\n",
            " 42%|████▏     | 42/100 [00:00<00:00, 207.68it/s]\u001b[A\n",
            " 63%|██████▎   | 63/100 [00:00<00:00, 206.36it/s]\u001b[A\n",
            "100%|██████████| 100/100 [00:00<00:00, 196.06it/s]\n",
            " 67%|██████▋   | 67/100 [00:35<00:17,  1.89it/s]\n",
            "  0%|          | 0/100 [00:00<?, ?it/s]\u001b[A\n",
            " 21%|██        | 21/100 [00:00<00:00, 208.80it/s]\u001b[A\n",
            " 42%|████▏     | 42/100 [00:00<00:00, 206.69it/s]\u001b[A\n",
            " 63%|██████▎   | 63/100 [00:00<00:00, 194.20it/s]\u001b[A\n",
            "100%|██████████| 100/100 [00:00<00:00, 196.71it/s]\n",
            " 68%|██████▊   | 68/100 [00:35<00:16,  1.90it/s]\n",
            "  0%|          | 0/100 [00:00<?, ?it/s]\u001b[A\n",
            " 22%|██▏       | 22/100 [00:00<00:00, 211.06it/s]\u001b[A\n",
            " 44%|████▍     | 44/100 [00:00<00:00, 202.89it/s]\u001b[A\n",
            " 65%|██████▌   | 65/100 [00:00<00:00, 198.81it/s]\u001b[A\n",
            "100%|██████████| 100/100 [00:00<00:00, 196.64it/s]\n",
            " 69%|██████▉   | 69/100 [00:36<00:16,  1.91it/s]\n",
            "  0%|          | 0/100 [00:00<?, ?it/s]\u001b[A\n",
            " 22%|██▏       | 22/100 [00:00<00:00, 215.63it/s]\u001b[A\n",
            " 44%|████▍     | 44/100 [00:00<00:00, 199.42it/s]\u001b[A\n",
            " 65%|██████▌   | 65/100 [00:00<00:00, 196.56it/s]\u001b[A\n",
            "100%|██████████| 100/100 [00:00<00:00, 200.58it/s]\n",
            " 70%|███████   | 70/100 [00:36<00:15,  1.92it/s]\n",
            "  0%|          | 0/100 [00:00<?, ?it/s]\u001b[A\n",
            " 20%|██        | 20/100 [00:00<00:00, 195.87it/s]\u001b[A\n",
            " 40%|████      | 40/100 [00:00<00:00, 196.62it/s]\u001b[A\n",
            " 60%|██████    | 60/100 [00:00<00:00, 197.44it/s]\u001b[A\n",
            "100%|██████████| 100/100 [00:00<00:00, 196.86it/s]\n",
            " 71%|███████   | 71/100 [00:37<00:15,  1.92it/s]\n",
            "  0%|          | 0/100 [00:00<?, ?it/s]\u001b[A\n",
            " 21%|██        | 21/100 [00:00<00:00, 203.11it/s]\u001b[A\n",
            " 42%|████▏     | 42/100 [00:00<00:00, 197.35it/s]\u001b[A\n",
            " 63%|██████▎   | 63/100 [00:00<00:00, 199.72it/s]\u001b[A\n",
            "100%|██████████| 100/100 [00:00<00:00, 202.50it/s]\n",
            " 72%|███████▏  | 72/100 [00:37<00:14,  1.94it/s]\n",
            "  0%|          | 0/100 [00:00<?, ?it/s]\u001b[A\n",
            " 21%|██        | 21/100 [00:00<00:00, 208.26it/s]\u001b[A\n",
            " 42%|████▏     | 42/100 [00:00<00:00, 195.40it/s]\u001b[A\n",
            " 63%|██████▎   | 63/100 [00:00<00:00, 201.30it/s]\u001b[A\n",
            "100%|██████████| 100/100 [00:00<00:00, 198.69it/s]\n",
            " 73%|███████▎  | 73/100 [00:38<00:13,  1.94it/s]\n",
            "  0%|          | 0/100 [00:00<?, ?it/s]\u001b[A\n",
            " 22%|██▏       | 22/100 [00:00<00:00, 212.28it/s]\u001b[A\n",
            " 44%|████▍     | 44/100 [00:00<00:00, 198.66it/s]\u001b[A\n",
            " 65%|██████▌   | 65/100 [00:00<00:00, 200.75it/s]\u001b[A\n",
            "100%|██████████| 100/100 [00:00<00:00, 198.60it/s]\n",
            " 74%|███████▍  | 74/100 [00:38<00:13,  1.94it/s]\n",
            "  0%|          | 0/100 [00:00<?, ?it/s]\u001b[A\n",
            " 23%|██▎       | 23/100 [00:00<00:00, 221.49it/s]\u001b[A\n",
            " 46%|████▌     | 46/100 [00:00<00:00, 210.47it/s]\u001b[A\n",
            " 68%|██████▊   | 68/100 [00:00<00:00, 198.70it/s]\u001b[A\n",
            "100%|██████████| 100/100 [00:00<00:00, 199.88it/s]\n",
            " 75%|███████▌  | 75/100 [00:39<00:12,  1.94it/s]\n",
            "  0%|          | 0/100 [00:00<?, ?it/s]\u001b[A\n",
            " 22%|██▏       | 22/100 [00:00<00:00, 218.00it/s]\u001b[A\n",
            " 44%|████▍     | 44/100 [00:00<00:00, 185.78it/s]\u001b[A\n",
            " 65%|██████▌   | 65/100 [00:00<00:00, 193.44it/s]\u001b[A\n",
            "100%|██████████| 100/100 [00:00<00:00, 191.82it/s]\n",
            " 76%|███████▌  | 76/100 [00:39<00:12,  1.91it/s]\n",
            "  0%|          | 0/100 [00:00<?, ?it/s]\u001b[A\n",
            " 22%|██▏       | 22/100 [00:00<00:00, 218.91it/s]\u001b[A\n",
            " 44%|████▍     | 44/100 [00:00<00:00, 210.13it/s]\u001b[A\n",
            " 66%|██████▌   | 66/100 [00:00<00:00, 208.92it/s]\u001b[A\n",
            "100%|██████████| 100/100 [00:00<00:00, 203.71it/s]\n",
            " 77%|███████▋  | 77/100 [00:40<00:11,  1.93it/s]\n",
            "  0%|          | 0/100 [00:00<?, ?it/s]\u001b[A\n",
            " 21%|██        | 21/100 [00:00<00:00, 202.28it/s]\u001b[A\n",
            " 42%|████▏     | 42/100 [00:00<00:00, 190.74it/s]\u001b[A\n",
            " 63%|██████▎   | 63/100 [00:00<00:00, 198.60it/s]\u001b[A\n",
            "100%|██████████| 100/100 [00:00<00:00, 197.50it/s]\n",
            " 78%|███████▊  | 78/100 [00:40<00:11,  1.93it/s]\n",
            "  0%|          | 0/100 [00:00<?, ?it/s]\u001b[A\n",
            " 20%|██        | 20/100 [00:00<00:00, 199.72it/s]\u001b[A\n",
            " 41%|████      | 41/100 [00:00<00:00, 201.90it/s]\u001b[A\n",
            " 62%|██████▏   | 62/100 [00:00<00:00, 200.86it/s]\u001b[A\n",
            "100%|██████████| 100/100 [00:00<00:00, 202.87it/s]\n",
            " 79%|███████▉  | 79/100 [00:41<00:10,  1.94it/s]\n",
            "  0%|          | 0/100 [00:00<?, ?it/s]\u001b[A\n",
            " 21%|██        | 21/100 [00:00<00:00, 204.70it/s]\u001b[A\n",
            " 42%|████▏     | 42/100 [00:00<00:00, 193.59it/s]\u001b[A\n",
            " 63%|██████▎   | 63/100 [00:00<00:00, 199.91it/s]\u001b[A\n",
            "100%|██████████| 100/100 [00:00<00:00, 197.84it/s]\n",
            " 80%|████████  | 80/100 [00:41<00:10,  1.94it/s]\n",
            "  0%|          | 0/100 [00:00<?, ?it/s]\u001b[A\n",
            " 21%|██        | 21/100 [00:00<00:00, 205.79it/s]\u001b[A\n",
            " 42%|████▏     | 42/100 [00:00<00:00, 203.28it/s]\u001b[A\n",
            " 63%|██████▎   | 63/100 [00:00<00:00, 203.88it/s]\u001b[A\n",
            "100%|██████████| 100/100 [00:00<00:00, 201.65it/s]\n",
            " 81%|████████  | 81/100 [00:42<00:09,  1.95it/s]\n",
            "  0%|          | 0/100 [00:00<?, ?it/s]\u001b[A\n",
            " 20%|██        | 20/100 [00:00<00:00, 199.36it/s]\u001b[A\n",
            " 40%|████      | 40/100 [00:00<00:00, 180.85it/s]\u001b[A\n",
            " 60%|██████    | 60/100 [00:00<00:00, 186.08it/s]\u001b[A\n",
            "100%|██████████| 100/100 [00:00<00:00, 192.32it/s]\n",
            " 82%|████████▏ | 82/100 [00:42<00:09,  1.92it/s]\n",
            "  0%|          | 0/100 [00:00<?, ?it/s]\u001b[A\n",
            " 22%|██▏       | 22/100 [00:00<00:00, 214.48it/s]\u001b[A\n",
            " 44%|████▍     | 44/100 [00:00<00:00, 208.57it/s]\u001b[A\n",
            " 65%|██████▌   | 65/100 [00:00<00:00, 197.54it/s]\u001b[A\n",
            "100%|██████████| 100/100 [00:00<00:00, 200.44it/s]\n",
            " 83%|████████▎ | 83/100 [00:43<00:08,  1.93it/s]\n",
            "  0%|          | 0/100 [00:00<?, ?it/s]\u001b[A\n",
            " 21%|██        | 21/100 [00:00<00:00, 203.63it/s]\u001b[A\n",
            " 42%|████▏     | 42/100 [00:00<00:00, 191.85it/s]\u001b[A\n",
            " 63%|██████▎   | 63/100 [00:00<00:00, 197.81it/s]\u001b[A\n",
            "100%|██████████| 100/100 [00:00<00:00, 197.14it/s]\n",
            " 84%|████████▍ | 84/100 [00:43<00:08,  1.93it/s]\n",
            "  0%|          | 0/100 [00:00<?, ?it/s]\u001b[A\n",
            " 22%|██▏       | 22/100 [00:00<00:00, 211.42it/s]\u001b[A\n",
            " 44%|████▍     | 44/100 [00:00<00:00, 192.57it/s]\u001b[A\n",
            " 64%|██████▍   | 64/100 [00:00<00:00, 194.85it/s]\u001b[A\n",
            "100%|██████████| 100/100 [00:00<00:00, 197.09it/s]\n",
            " 85%|████████▌ | 85/100 [00:44<00:07,  1.93it/s]\n",
            "  0%|          | 0/100 [00:00<?, ?it/s]\u001b[A\n",
            " 21%|██        | 21/100 [00:00<00:00, 193.55it/s]\u001b[A\n",
            " 42%|████▏     | 42/100 [00:00<00:00, 198.20it/s]\u001b[A\n",
            " 63%|██████▎   | 63/100 [00:00<00:00, 199.90it/s]\u001b[A\n",
            "100%|██████████| 100/100 [00:00<00:00, 196.75it/s]\n",
            " 86%|████████▌ | 86/100 [00:44<00:07,  1.92it/s]\n",
            "  0%|          | 0/100 [00:00<?, ?it/s]\u001b[A\n",
            " 21%|██        | 21/100 [00:00<00:00, 207.10it/s]\u001b[A\n",
            " 42%|████▏     | 42/100 [00:00<00:00, 207.27it/s]\u001b[A\n",
            " 63%|██████▎   | 63/100 [00:00<00:00, 208.35it/s]\u001b[A\n",
            "100%|██████████| 100/100 [00:00<00:00, 205.54it/s]\n",
            " 87%|████████▋ | 87/100 [00:45<00:06,  1.95it/s]\n",
            "  0%|          | 0/100 [00:00<?, ?it/s]\u001b[A\n",
            " 21%|██        | 21/100 [00:00<00:00, 203.58it/s]\u001b[A\n",
            " 42%|████▏     | 42/100 [00:00<00:00, 190.18it/s]\u001b[A\n",
            " 63%|██████▎   | 63/100 [00:00<00:00, 195.60it/s]\u001b[A\n",
            "100%|██████████| 100/100 [00:00<00:00, 198.48it/s]\n",
            " 88%|████████▊ | 88/100 [00:45<00:06,  1.94it/s]\n",
            "  0%|          | 0/100 [00:00<?, ?it/s]\u001b[A\n",
            " 22%|██▏       | 22/100 [00:00<00:00, 216.93it/s]\u001b[A\n",
            " 44%|████▍     | 44/100 [00:00<00:00, 211.88it/s]\u001b[A\n",
            " 66%|██████▌   | 66/100 [00:00<00:00, 202.54it/s]\u001b[A\n",
            "100%|██████████| 100/100 [00:00<00:00, 204.67it/s]\n",
            " 89%|████████▉ | 89/100 [00:46<00:05,  1.96it/s]\n",
            "  0%|          | 0/100 [00:00<?, ?it/s]\u001b[A\n",
            " 22%|██▏       | 22/100 [00:00<00:00, 217.08it/s]\u001b[A\n",
            " 44%|████▍     | 44/100 [00:00<00:00, 199.26it/s]\u001b[A\n",
            " 65%|██████▌   | 65/100 [00:00<00:00, 203.46it/s]\u001b[A\n",
            "100%|██████████| 100/100 [00:00<00:00, 203.53it/s]\n",
            " 90%|█████████ | 90/100 [00:46<00:05,  1.97it/s]\n",
            "  0%|          | 0/100 [00:00<?, ?it/s]\u001b[A\n",
            " 20%|██        | 20/100 [00:00<00:00, 192.23it/s]\u001b[A\n",
            " 40%|████      | 40/100 [00:00<00:00, 185.20it/s]\u001b[A\n",
            " 59%|█████▉    | 59/100 [00:00<00:00, 182.82it/s]\u001b[A\n",
            " 78%|███████▊  | 78/100 [00:00<00:00, 182.63it/s]\u001b[A\n",
            "100%|██████████| 100/100 [00:00<00:00, 178.31it/s]\n",
            " 91%|█████████ | 91/100 [00:47<00:04,  1.89it/s]\n",
            "  0%|          | 0/100 [00:00<?, ?it/s]\u001b[A\n",
            " 16%|█▌        | 16/100 [00:00<00:00, 156.93it/s]\u001b[A\n",
            " 34%|███▍      | 34/100 [00:00<00:00, 165.54it/s]\u001b[A\n",
            " 53%|█████▎    | 53/100 [00:00<00:00, 175.16it/s]\u001b[A\n",
            " 72%|███████▏  | 72/100 [00:00<00:00, 178.99it/s]\u001b[A\n",
            "100%|██████████| 100/100 [00:00<00:00, 176.10it/s]\n",
            " 92%|█████████▏| 92/100 [00:48<00:04,  1.84it/s]\n",
            "  0%|          | 0/100 [00:00<?, ?it/s]\u001b[A\n",
            " 21%|██        | 21/100 [00:00<00:00, 203.55it/s]\u001b[A\n",
            " 42%|████▏     | 42/100 [00:00<00:00, 199.33it/s]\u001b[A\n",
            " 63%|██████▎   | 63/100 [00:00<00:00, 200.60it/s]\u001b[A\n",
            "100%|██████████| 100/100 [00:00<00:00, 197.02it/s]\n",
            " 93%|█████████▎| 93/100 [00:48<00:03,  1.87it/s]\n",
            "  0%|          | 0/100 [00:00<?, ?it/s]\u001b[A\n",
            " 20%|██        | 20/100 [00:00<00:00, 198.24it/s]\u001b[A\n",
            " 40%|████      | 40/100 [00:00<00:00, 178.48it/s]\u001b[A\n",
            " 61%|██████    | 61/100 [00:00<00:00, 189.19it/s]\u001b[A\n",
            "100%|██████████| 100/100 [00:00<00:00, 189.32it/s]\n",
            " 94%|█████████▍| 94/100 [00:49<00:03,  1.86it/s]\n",
            "  0%|          | 0/100 [00:00<?, ?it/s]\u001b[A\n",
            " 19%|█▉        | 19/100 [00:00<00:00, 189.13it/s]\u001b[A\n",
            " 39%|███▉      | 39/100 [00:00<00:00, 192.79it/s]\u001b[A\n",
            " 59%|█████▉    | 59/100 [00:00<00:00, 194.31it/s]\u001b[A\n",
            " 80%|████████  | 80/100 [00:00<00:00, 199.04it/s]\u001b[A\n",
            "100%|██████████| 100/100 [00:00<00:00, 186.30it/s]\n",
            " 95%|█████████▌| 95/100 [00:49<00:02,  1.85it/s]\n",
            "  0%|          | 0/100 [00:00<?, ?it/s]\u001b[A\n",
            " 19%|█▉        | 19/100 [00:00<00:00, 184.05it/s]\u001b[A\n",
            " 38%|███▊      | 38/100 [00:00<00:00, 168.84it/s]\u001b[A\n",
            " 58%|█████▊    | 58/100 [00:00<00:00, 181.11it/s]\u001b[A\n",
            " 78%|███████▊  | 78/100 [00:00<00:00, 186.93it/s]\u001b[A\n",
            "100%|██████████| 100/100 [00:00<00:00, 185.38it/s]\n",
            " 96%|█████████▌| 96/100 [00:50<00:02,  1.84it/s]\n",
            "  0%|          | 0/100 [00:00<?, ?it/s]\u001b[A\n",
            " 21%|██        | 21/100 [00:00<00:00, 207.05it/s]\u001b[A\n",
            " 42%|████▏     | 42/100 [00:00<00:00, 206.23it/s]\u001b[A\n",
            " 63%|██████▎   | 63/100 [00:00<00:00, 205.80it/s]\u001b[A\n",
            "100%|██████████| 100/100 [00:00<00:00, 200.13it/s]\n",
            " 97%|█████████▋| 97/100 [00:50<00:01,  1.87it/s]\n",
            "  0%|          | 0/100 [00:00<?, ?it/s]\u001b[A\n",
            " 19%|█▉        | 19/100 [00:00<00:00, 189.82it/s]\u001b[A\n",
            " 39%|███▉      | 39/100 [00:00<00:00, 193.17it/s]\u001b[A\n",
            " 59%|█████▉    | 59/100 [00:00<00:00, 194.05it/s]\u001b[A\n",
            " 79%|███████▉  | 79/100 [00:00<00:00, 191.29it/s]\u001b[A\n",
            "100%|██████████| 100/100 [00:00<00:00, 187.17it/s]\n",
            " 98%|█████████▊| 98/100 [00:51<00:01,  1.85it/s]\n",
            "  0%|          | 0/100 [00:00<?, ?it/s]\u001b[A\n",
            " 19%|█▉        | 19/100 [00:00<00:00, 185.25it/s]\u001b[A\n",
            " 38%|███▊      | 38/100 [00:00<00:00, 184.68it/s]\u001b[A\n",
            " 57%|█████▋    | 57/100 [00:00<00:00, 173.55it/s]\u001b[A\n",
            " 75%|███████▌  | 75/100 [00:00<00:00, 173.04it/s]\u001b[A\n",
            "100%|██████████| 100/100 [00:00<00:00, 173.02it/s]\n",
            " 99%|█████████▉| 99/100 [00:51<00:00,  1.80it/s]\n",
            "  0%|          | 0/100 [00:00<?, ?it/s]\u001b[A\n",
            " 20%|██        | 20/100 [00:00<00:00, 199.87it/s]\u001b[A\n",
            " 40%|████      | 40/100 [00:00<00:00, 193.72it/s]\u001b[A\n",
            " 60%|██████    | 60/100 [00:00<00:00, 193.42it/s]\u001b[A\n",
            " 80%|████████  | 80/100 [00:00<00:00, 189.45it/s]\u001b[A\n",
            "100%|██████████| 100/100 [00:00<00:00, 186.67it/s]\n",
            "100%|██████████| 100/100 [00:52<00:00,  1.90it/s]\n"
          ]
        },
        {
          "output_type": "stream",
          "name": "stdout",
          "text": [
            "[[8. 8. 8. ... 7. 7. 7.]\n",
            " [8. 8. 8. ... 7. 7. 7.]\n",
            " [8. 8. 8. ... 7. 7. 7.]\n",
            " ...\n",
            " [2. 2. 2. ... 0. 3. 3.]\n",
            " [2. 2. 2. ... 0. 0. 3.]\n",
            " [2. 2. 2. ... 0. 0. 0.]]\n"
          ]
        },
        {
          "output_type": "display_data",
          "data": {
            "text/plain": [
              "<Figure size 432x288 with 2 Axes>"
            ],
            "image/png": "[encoded data removed]"
          },
          "metadata": {
            "needs_background": "light"
          }
        }
      ]
    },
    {
      "cell_type": "code",
      "source": [],
      "metadata": {
        "id": "lkPf-yPOiRl_"
      },
      "execution_count": null,
      "outputs": []
    }
  ]
}